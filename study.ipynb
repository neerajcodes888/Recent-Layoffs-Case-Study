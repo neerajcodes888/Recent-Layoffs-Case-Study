{
 "cells": [
  {
   "cell_type": "markdown",
   "id": "29c58dd1",
   "metadata": {},
   "source": [
    "# Layoffs Case Study"
   ]
  },
  {
   "cell_type": "markdown",
   "id": "b02d3e6a",
   "metadata": {},
   "source": [
    "### Importing necessary libraries"
   ]
  },
  {
   "cell_type": "code",
   "execution_count": 134,
   "id": "984bed8d",
   "metadata": {},
   "outputs": [],
   "source": [
    "import pandas as pd\n",
    "import numpy as np\n",
    "import matplotlib.pyplot as plt\n",
    "    "
   ]
  },
  {
   "cell_type": "markdown",
   "id": "e52a35ca",
   "metadata": {},
   "source": [
    "### Data Import"
   ]
  },
  {
   "cell_type": "code",
   "execution_count": 135,
   "id": "f9c82e4e",
   "metadata": {},
   "outputs": [],
   "source": [
    "url = \"https://raw.githubusercontent.com/neerajcodes888/Data-Science/main/Case%20Study/Recent%20Layoffs%20Analysis/layoffs.csv\"\n",
    "\n",
    "data = pd.read_csv(url)"
   ]
  },
  {
   "cell_type": "code",
   "execution_count": 136,
   "id": "05b98afb",
   "metadata": {},
   "outputs": [
    {
     "data": {
      "text/html": [
       "<div>\n",
       "<style scoped>\n",
       "    .dataframe tbody tr th:only-of-type {\n",
       "        vertical-align: middle;\n",
       "    }\n",
       "\n",
       "    .dataframe tbody tr th {\n",
       "        vertical-align: top;\n",
       "    }\n",
       "\n",
       "    .dataframe thead th {\n",
       "        text-align: right;\n",
       "    }\n",
       "</style>\n",
       "<table border=\"1\" class=\"dataframe\">\n",
       "  <thead>\n",
       "    <tr style=\"text-align: right;\">\n",
       "      <th></th>\n",
       "      <th>company</th>\n",
       "      <th>location</th>\n",
       "      <th>total_laid_off</th>\n",
       "      <th>date</th>\n",
       "      <th>percentage_laid_off</th>\n",
       "      <th>industry</th>\n",
       "      <th>source</th>\n",
       "      <th>stage</th>\n",
       "      <th>funds_raised</th>\n",
       "      <th>country</th>\n",
       "      <th>date_added</th>\n",
       "    </tr>\n",
       "  </thead>\n",
       "  <tbody>\n",
       "    <tr>\n",
       "      <th>0</th>\n",
       "      <td>Kaltura</td>\n",
       "      <td>New York City</td>\n",
       "      <td>70.0</td>\n",
       "      <td>8/7/2025</td>\n",
       "      <td>10%</td>\n",
       "      <td>Media</td>\n",
       "      <td>https://www.calcalistech.com/ctechnews/article...</td>\n",
       "      <td>Post-IPO</td>\n",
       "      <td>$166</td>\n",
       "      <td>United States</td>\n",
       "      <td>8/10/2025</td>\n",
       "    </tr>\n",
       "    <tr>\n",
       "      <th>1</th>\n",
       "      <td>Peloton</td>\n",
       "      <td>New York City</td>\n",
       "      <td>NaN</td>\n",
       "      <td>8/7/2025</td>\n",
       "      <td>6%</td>\n",
       "      <td>Fitness</td>\n",
       "      <td>https://www.reuters.com/technology/peloton-cut...</td>\n",
       "      <td>Post-IPO</td>\n",
       "      <td>$1900</td>\n",
       "      <td>United States</td>\n",
       "      <td>8/10/2025</td>\n",
       "    </tr>\n",
       "    <tr>\n",
       "      <th>2</th>\n",
       "      <td>Yotpo</td>\n",
       "      <td>New York City</td>\n",
       "      <td>200.0</td>\n",
       "      <td>8/5/2025</td>\n",
       "      <td>34%</td>\n",
       "      <td>Marketing</td>\n",
       "      <td>https://www.calcalistech.com/ctechnews/article...</td>\n",
       "      <td>Unknown</td>\n",
       "      <td>$436</td>\n",
       "      <td>United States</td>\n",
       "      <td>8/5/2025</td>\n",
       "    </tr>\n",
       "    <tr>\n",
       "      <th>3</th>\n",
       "      <td>Windsurf</td>\n",
       "      <td>SF Bay Area</td>\n",
       "      <td>30.0</td>\n",
       "      <td>8/5/2025</td>\n",
       "      <td>NaN</td>\n",
       "      <td>AI</td>\n",
       "      <td>https://techcrunch.com/2025/08/05/three-weeks-...</td>\n",
       "      <td>Acquired</td>\n",
       "      <td>$243</td>\n",
       "      <td>United States</td>\n",
       "      <td>8/10/2025</td>\n",
       "    </tr>\n",
       "    <tr>\n",
       "      <th>4</th>\n",
       "      <td>Wondery</td>\n",
       "      <td>Los Angeles</td>\n",
       "      <td>100.0</td>\n",
       "      <td>8/4/2025</td>\n",
       "      <td>NaN</td>\n",
       "      <td>Media</td>\n",
       "      <td>https://variety.com/2025/biz/news/amazon-reorg...</td>\n",
       "      <td>Acquired</td>\n",
       "      <td>$15</td>\n",
       "      <td>United States</td>\n",
       "      <td>8/5/2025</td>\n",
       "    </tr>\n",
       "  </tbody>\n",
       "</table>\n",
       "</div>"
      ],
      "text/plain": [
       "    company       location  total_laid_off      date percentage_laid_off  \\\n",
       "0   Kaltura  New York City            70.0  8/7/2025                 10%   \n",
       "1   Peloton  New York City             NaN  8/7/2025                  6%   \n",
       "2     Yotpo  New York City           200.0  8/5/2025                 34%   \n",
       "3  Windsurf    SF Bay Area            30.0  8/5/2025                 NaN   \n",
       "4   Wondery    Los Angeles           100.0  8/4/2025                 NaN   \n",
       "\n",
       "    industry                                             source     stage  \\\n",
       "0      Media  https://www.calcalistech.com/ctechnews/article...  Post-IPO   \n",
       "1    Fitness  https://www.reuters.com/technology/peloton-cut...  Post-IPO   \n",
       "2  Marketing  https://www.calcalistech.com/ctechnews/article...   Unknown   \n",
       "3         AI  https://techcrunch.com/2025/08/05/three-weeks-...  Acquired   \n",
       "4      Media  https://variety.com/2025/biz/news/amazon-reorg...  Acquired   \n",
       "\n",
       "  funds_raised        country date_added  \n",
       "0         $166  United States  8/10/2025  \n",
       "1        $1900  United States  8/10/2025  \n",
       "2         $436  United States   8/5/2025  \n",
       "3         $243  United States  8/10/2025  \n",
       "4          $15  United States   8/5/2025  "
      ]
     },
     "execution_count": 136,
     "metadata": {},
     "output_type": "execute_result"
    }
   ],
   "source": [
    "data.head()"
   ]
  },
  {
   "cell_type": "markdown",
   "id": "57663336",
   "metadata": {},
   "source": [
    "### Let's handle some missing data"
   ]
  },
  {
   "cell_type": "code",
   "execution_count": 137,
   "id": "4e882ec7",
   "metadata": {},
   "outputs": [
    {
     "name": "stdout",
     "output_type": "stream",
     "text": [
      "<class 'pandas.core.frame.DataFrame'>\n",
      "RangeIndex: 4127 entries, 0 to 4126\n",
      "Data columns (total 11 columns):\n",
      " #   Column               Non-Null Count  Dtype  \n",
      "---  ------               --------------  -----  \n",
      " 0   company              4127 non-null   object \n",
      " 1   location             4126 non-null   object \n",
      " 2   total_laid_off       2689 non-null   float64\n",
      " 3   date                 4127 non-null   object \n",
      " 4   percentage_laid_off  2626 non-null   object \n",
      " 5   industry             4125 non-null   object \n",
      " 6   source               4124 non-null   object \n",
      " 7   stage                4120 non-null   object \n",
      " 8   funds_raised         3672 non-null   object \n",
      " 9   country              4125 non-null   object \n",
      " 10  date_added           4127 non-null   object \n",
      "dtypes: float64(1), object(10)\n",
      "memory usage: 354.8+ KB\n"
     ]
    }
   ],
   "source": [
    "data.info()"
   ]
  },
  {
   "cell_type": "markdown",
   "id": "fea6e30f",
   "metadata": {},
   "source": [
    "### We can remove some unwanted column . Here we can remove source col"
   ]
  },
  {
   "cell_type": "code",
   "execution_count": 138,
   "id": "96ee51a5",
   "metadata": {},
   "outputs": [],
   "source": [
    "data = data.drop('source',axis=1)"
   ]
  },
  {
   "cell_type": "code",
   "execution_count": 139,
   "id": "ae60dde0",
   "metadata": {},
   "outputs": [
    {
     "data": {
      "text/html": [
       "<div>\n",
       "<style scoped>\n",
       "    .dataframe tbody tr th:only-of-type {\n",
       "        vertical-align: middle;\n",
       "    }\n",
       "\n",
       "    .dataframe tbody tr th {\n",
       "        vertical-align: top;\n",
       "    }\n",
       "\n",
       "    .dataframe thead th {\n",
       "        text-align: right;\n",
       "    }\n",
       "</style>\n",
       "<table border=\"1\" class=\"dataframe\">\n",
       "  <thead>\n",
       "    <tr style=\"text-align: right;\">\n",
       "      <th></th>\n",
       "      <th>company</th>\n",
       "      <th>location</th>\n",
       "      <th>total_laid_off</th>\n",
       "      <th>date</th>\n",
       "      <th>percentage_laid_off</th>\n",
       "      <th>industry</th>\n",
       "      <th>stage</th>\n",
       "      <th>funds_raised</th>\n",
       "      <th>country</th>\n",
       "      <th>date_added</th>\n",
       "    </tr>\n",
       "  </thead>\n",
       "  <tbody>\n",
       "    <tr>\n",
       "      <th>0</th>\n",
       "      <td>Kaltura</td>\n",
       "      <td>New York City</td>\n",
       "      <td>70.0</td>\n",
       "      <td>8/7/2025</td>\n",
       "      <td>10%</td>\n",
       "      <td>Media</td>\n",
       "      <td>Post-IPO</td>\n",
       "      <td>$166</td>\n",
       "      <td>United States</td>\n",
       "      <td>8/10/2025</td>\n",
       "    </tr>\n",
       "    <tr>\n",
       "      <th>1</th>\n",
       "      <td>Peloton</td>\n",
       "      <td>New York City</td>\n",
       "      <td>NaN</td>\n",
       "      <td>8/7/2025</td>\n",
       "      <td>6%</td>\n",
       "      <td>Fitness</td>\n",
       "      <td>Post-IPO</td>\n",
       "      <td>$1900</td>\n",
       "      <td>United States</td>\n",
       "      <td>8/10/2025</td>\n",
       "    </tr>\n",
       "    <tr>\n",
       "      <th>2</th>\n",
       "      <td>Yotpo</td>\n",
       "      <td>New York City</td>\n",
       "      <td>200.0</td>\n",
       "      <td>8/5/2025</td>\n",
       "      <td>34%</td>\n",
       "      <td>Marketing</td>\n",
       "      <td>Unknown</td>\n",
       "      <td>$436</td>\n",
       "      <td>United States</td>\n",
       "      <td>8/5/2025</td>\n",
       "    </tr>\n",
       "    <tr>\n",
       "      <th>3</th>\n",
       "      <td>Windsurf</td>\n",
       "      <td>SF Bay Area</td>\n",
       "      <td>30.0</td>\n",
       "      <td>8/5/2025</td>\n",
       "      <td>NaN</td>\n",
       "      <td>AI</td>\n",
       "      <td>Acquired</td>\n",
       "      <td>$243</td>\n",
       "      <td>United States</td>\n",
       "      <td>8/10/2025</td>\n",
       "    </tr>\n",
       "    <tr>\n",
       "      <th>4</th>\n",
       "      <td>Wondery</td>\n",
       "      <td>Los Angeles</td>\n",
       "      <td>100.0</td>\n",
       "      <td>8/4/2025</td>\n",
       "      <td>NaN</td>\n",
       "      <td>Media</td>\n",
       "      <td>Acquired</td>\n",
       "      <td>$15</td>\n",
       "      <td>United States</td>\n",
       "      <td>8/5/2025</td>\n",
       "    </tr>\n",
       "    <tr>\n",
       "      <th>...</th>\n",
       "      <td>...</td>\n",
       "      <td>...</td>\n",
       "      <td>...</td>\n",
       "      <td>...</td>\n",
       "      <td>...</td>\n",
       "      <td>...</td>\n",
       "      <td>...</td>\n",
       "      <td>...</td>\n",
       "      <td>...</td>\n",
       "      <td>...</td>\n",
       "    </tr>\n",
       "    <tr>\n",
       "      <th>4122</th>\n",
       "      <td>Service</td>\n",
       "      <td>Los Angeles</td>\n",
       "      <td>NaN</td>\n",
       "      <td>3/16/2020</td>\n",
       "      <td>100%</td>\n",
       "      <td>Travel</td>\n",
       "      <td>Seed</td>\n",
       "      <td>$5</td>\n",
       "      <td>United States</td>\n",
       "      <td>8/31/2020</td>\n",
       "    </tr>\n",
       "    <tr>\n",
       "      <th>4123</th>\n",
       "      <td>HopSkipDrive</td>\n",
       "      <td>Los Angeles</td>\n",
       "      <td>8.0</td>\n",
       "      <td>3/13/2020</td>\n",
       "      <td>10%</td>\n",
       "      <td>Transportation</td>\n",
       "      <td>Unknown</td>\n",
       "      <td>$45</td>\n",
       "      <td>United States</td>\n",
       "      <td>4/3/2020</td>\n",
       "    </tr>\n",
       "    <tr>\n",
       "      <th>4124</th>\n",
       "      <td>Panda Squad</td>\n",
       "      <td>SF Bay Area</td>\n",
       "      <td>6.0</td>\n",
       "      <td>3/13/2020</td>\n",
       "      <td>75%</td>\n",
       "      <td>Consumer</td>\n",
       "      <td>Seed</td>\n",
       "      <td>$1</td>\n",
       "      <td>United States</td>\n",
       "      <td>4/17/2020</td>\n",
       "    </tr>\n",
       "    <tr>\n",
       "      <th>4125</th>\n",
       "      <td>Tamara Mellon</td>\n",
       "      <td>Los Angeles</td>\n",
       "      <td>20.0</td>\n",
       "      <td>3/12/2020</td>\n",
       "      <td>40%</td>\n",
       "      <td>Retail</td>\n",
       "      <td>Series C</td>\n",
       "      <td>$90</td>\n",
       "      <td>United States</td>\n",
       "      <td>3/31/2020</td>\n",
       "    </tr>\n",
       "    <tr>\n",
       "      <th>4126</th>\n",
       "      <td>EasyPost</td>\n",
       "      <td>Salt Lake City</td>\n",
       "      <td>75.0</td>\n",
       "      <td>3/11/2020</td>\n",
       "      <td>NaN</td>\n",
       "      <td>Logistics</td>\n",
       "      <td>Series A</td>\n",
       "      <td>$12</td>\n",
       "      <td>United States</td>\n",
       "      <td>3/31/2020</td>\n",
       "    </tr>\n",
       "  </tbody>\n",
       "</table>\n",
       "<p>4127 rows × 10 columns</p>\n",
       "</div>"
      ],
      "text/plain": [
       "            company        location  total_laid_off       date  \\\n",
       "0           Kaltura   New York City            70.0   8/7/2025   \n",
       "1           Peloton   New York City             NaN   8/7/2025   \n",
       "2             Yotpo   New York City           200.0   8/5/2025   \n",
       "3          Windsurf     SF Bay Area            30.0   8/5/2025   \n",
       "4           Wondery     Los Angeles           100.0   8/4/2025   \n",
       "...             ...             ...             ...        ...   \n",
       "4122        Service     Los Angeles             NaN  3/16/2020   \n",
       "4123   HopSkipDrive     Los Angeles             8.0  3/13/2020   \n",
       "4124    Panda Squad     SF Bay Area             6.0  3/13/2020   \n",
       "4125  Tamara Mellon     Los Angeles            20.0  3/12/2020   \n",
       "4126       EasyPost  Salt Lake City            75.0  3/11/2020   \n",
       "\n",
       "     percentage_laid_off        industry     stage funds_raised  \\\n",
       "0                    10%           Media  Post-IPO         $166   \n",
       "1                     6%         Fitness  Post-IPO        $1900   \n",
       "2                    34%       Marketing   Unknown         $436   \n",
       "3                    NaN              AI  Acquired         $243   \n",
       "4                    NaN           Media  Acquired          $15   \n",
       "...                  ...             ...       ...          ...   \n",
       "4122                100%          Travel      Seed           $5   \n",
       "4123                 10%  Transportation   Unknown          $45   \n",
       "4124                 75%        Consumer      Seed           $1   \n",
       "4125                 40%          Retail  Series C          $90   \n",
       "4126                 NaN       Logistics  Series A          $12   \n",
       "\n",
       "            country date_added  \n",
       "0     United States  8/10/2025  \n",
       "1     United States  8/10/2025  \n",
       "2     United States   8/5/2025  \n",
       "3     United States  8/10/2025  \n",
       "4     United States   8/5/2025  \n",
       "...             ...        ...  \n",
       "4122  United States  8/31/2020  \n",
       "4123  United States   4/3/2020  \n",
       "4124  United States  4/17/2020  \n",
       "4125  United States  3/31/2020  \n",
       "4126  United States  3/31/2020  \n",
       "\n",
       "[4127 rows x 10 columns]"
      ]
     },
     "execution_count": 139,
     "metadata": {},
     "output_type": "execute_result"
    }
   ],
   "source": [
    "data"
   ]
  },
  {
   "cell_type": "markdown",
   "id": "a59666a2",
   "metadata": {},
   "source": [
    "### Now , we can see that source column has been removed."
   ]
  },
  {
   "cell_type": "markdown",
   "id": "2d92a1cd",
   "metadata": {},
   "source": [
    "#### Checking NA or null values"
   ]
  },
  {
   "cell_type": "code",
   "execution_count": 140,
   "id": "2b9bbbfa",
   "metadata": {},
   "outputs": [
    {
     "data": {
      "text/html": [
       "<div>\n",
       "<style scoped>\n",
       "    .dataframe tbody tr th:only-of-type {\n",
       "        vertical-align: middle;\n",
       "    }\n",
       "\n",
       "    .dataframe tbody tr th {\n",
       "        vertical-align: top;\n",
       "    }\n",
       "\n",
       "    .dataframe thead th {\n",
       "        text-align: right;\n",
       "    }\n",
       "</style>\n",
       "<table border=\"1\" class=\"dataframe\">\n",
       "  <thead>\n",
       "    <tr style=\"text-align: right;\">\n",
       "      <th></th>\n",
       "      <th>company</th>\n",
       "      <th>location</th>\n",
       "      <th>total_laid_off</th>\n",
       "      <th>date</th>\n",
       "      <th>percentage_laid_off</th>\n",
       "      <th>industry</th>\n",
       "      <th>stage</th>\n",
       "      <th>funds_raised</th>\n",
       "      <th>country</th>\n",
       "      <th>date_added</th>\n",
       "    </tr>\n",
       "  </thead>\n",
       "  <tbody>\n",
       "    <tr>\n",
       "      <th>0</th>\n",
       "      <td>False</td>\n",
       "      <td>False</td>\n",
       "      <td>False</td>\n",
       "      <td>False</td>\n",
       "      <td>False</td>\n",
       "      <td>False</td>\n",
       "      <td>False</td>\n",
       "      <td>False</td>\n",
       "      <td>False</td>\n",
       "      <td>False</td>\n",
       "    </tr>\n",
       "    <tr>\n",
       "      <th>1</th>\n",
       "      <td>False</td>\n",
       "      <td>False</td>\n",
       "      <td>True</td>\n",
       "      <td>False</td>\n",
       "      <td>False</td>\n",
       "      <td>False</td>\n",
       "      <td>False</td>\n",
       "      <td>False</td>\n",
       "      <td>False</td>\n",
       "      <td>False</td>\n",
       "    </tr>\n",
       "    <tr>\n",
       "      <th>2</th>\n",
       "      <td>False</td>\n",
       "      <td>False</td>\n",
       "      <td>False</td>\n",
       "      <td>False</td>\n",
       "      <td>False</td>\n",
       "      <td>False</td>\n",
       "      <td>False</td>\n",
       "      <td>False</td>\n",
       "      <td>False</td>\n",
       "      <td>False</td>\n",
       "    </tr>\n",
       "    <tr>\n",
       "      <th>3</th>\n",
       "      <td>False</td>\n",
       "      <td>False</td>\n",
       "      <td>False</td>\n",
       "      <td>False</td>\n",
       "      <td>True</td>\n",
       "      <td>False</td>\n",
       "      <td>False</td>\n",
       "      <td>False</td>\n",
       "      <td>False</td>\n",
       "      <td>False</td>\n",
       "    </tr>\n",
       "    <tr>\n",
       "      <th>4</th>\n",
       "      <td>False</td>\n",
       "      <td>False</td>\n",
       "      <td>False</td>\n",
       "      <td>False</td>\n",
       "      <td>True</td>\n",
       "      <td>False</td>\n",
       "      <td>False</td>\n",
       "      <td>False</td>\n",
       "      <td>False</td>\n",
       "      <td>False</td>\n",
       "    </tr>\n",
       "    <tr>\n",
       "      <th>...</th>\n",
       "      <td>...</td>\n",
       "      <td>...</td>\n",
       "      <td>...</td>\n",
       "      <td>...</td>\n",
       "      <td>...</td>\n",
       "      <td>...</td>\n",
       "      <td>...</td>\n",
       "      <td>...</td>\n",
       "      <td>...</td>\n",
       "      <td>...</td>\n",
       "    </tr>\n",
       "    <tr>\n",
       "      <th>4122</th>\n",
       "      <td>False</td>\n",
       "      <td>False</td>\n",
       "      <td>True</td>\n",
       "      <td>False</td>\n",
       "      <td>False</td>\n",
       "      <td>False</td>\n",
       "      <td>False</td>\n",
       "      <td>False</td>\n",
       "      <td>False</td>\n",
       "      <td>False</td>\n",
       "    </tr>\n",
       "    <tr>\n",
       "      <th>4123</th>\n",
       "      <td>False</td>\n",
       "      <td>False</td>\n",
       "      <td>False</td>\n",
       "      <td>False</td>\n",
       "      <td>False</td>\n",
       "      <td>False</td>\n",
       "      <td>False</td>\n",
       "      <td>False</td>\n",
       "      <td>False</td>\n",
       "      <td>False</td>\n",
       "    </tr>\n",
       "    <tr>\n",
       "      <th>4124</th>\n",
       "      <td>False</td>\n",
       "      <td>False</td>\n",
       "      <td>False</td>\n",
       "      <td>False</td>\n",
       "      <td>False</td>\n",
       "      <td>False</td>\n",
       "      <td>False</td>\n",
       "      <td>False</td>\n",
       "      <td>False</td>\n",
       "      <td>False</td>\n",
       "    </tr>\n",
       "    <tr>\n",
       "      <th>4125</th>\n",
       "      <td>False</td>\n",
       "      <td>False</td>\n",
       "      <td>False</td>\n",
       "      <td>False</td>\n",
       "      <td>False</td>\n",
       "      <td>False</td>\n",
       "      <td>False</td>\n",
       "      <td>False</td>\n",
       "      <td>False</td>\n",
       "      <td>False</td>\n",
       "    </tr>\n",
       "    <tr>\n",
       "      <th>4126</th>\n",
       "      <td>False</td>\n",
       "      <td>False</td>\n",
       "      <td>False</td>\n",
       "      <td>False</td>\n",
       "      <td>True</td>\n",
       "      <td>False</td>\n",
       "      <td>False</td>\n",
       "      <td>False</td>\n",
       "      <td>False</td>\n",
       "      <td>False</td>\n",
       "    </tr>\n",
       "  </tbody>\n",
       "</table>\n",
       "<p>4127 rows × 10 columns</p>\n",
       "</div>"
      ],
      "text/plain": [
       "      company  location  total_laid_off   date  percentage_laid_off  industry  \\\n",
       "0       False     False           False  False                False     False   \n",
       "1       False     False            True  False                False     False   \n",
       "2       False     False           False  False                False     False   \n",
       "3       False     False           False  False                 True     False   \n",
       "4       False     False           False  False                 True     False   \n",
       "...       ...       ...             ...    ...                  ...       ...   \n",
       "4122    False     False            True  False                False     False   \n",
       "4123    False     False           False  False                False     False   \n",
       "4124    False     False           False  False                False     False   \n",
       "4125    False     False           False  False                False     False   \n",
       "4126    False     False           False  False                 True     False   \n",
       "\n",
       "      stage  funds_raised  country  date_added  \n",
       "0     False         False    False       False  \n",
       "1     False         False    False       False  \n",
       "2     False         False    False       False  \n",
       "3     False         False    False       False  \n",
       "4     False         False    False       False  \n",
       "...     ...           ...      ...         ...  \n",
       "4122  False         False    False       False  \n",
       "4123  False         False    False       False  \n",
       "4124  False         False    False       False  \n",
       "4125  False         False    False       False  \n",
       "4126  False         False    False       False  \n",
       "\n",
       "[4127 rows x 10 columns]"
      ]
     },
     "execution_count": 140,
     "metadata": {},
     "output_type": "execute_result"
    }
   ],
   "source": [
    "data.isnull()"
   ]
  },
  {
   "cell_type": "code",
   "execution_count": 141,
   "id": "dd53c360",
   "metadata": {},
   "outputs": [
    {
     "data": {
      "text/plain": [
       "company                   0\n",
       "location                  1\n",
       "total_laid_off         1438\n",
       "date                      0\n",
       "percentage_laid_off    1501\n",
       "industry                  2\n",
       "stage                     7\n",
       "funds_raised            455\n",
       "country                   2\n",
       "date_added                0\n",
       "dtype: int64"
      ]
     },
     "execution_count": 141,
     "metadata": {},
     "output_type": "execute_result"
    }
   ],
   "source": [
    "data.isnull().sum()"
   ]
  },
  {
   "cell_type": "code",
   "execution_count": 142,
   "id": "6c931416",
   "metadata": {},
   "outputs": [
    {
     "data": {
      "text/html": [
       "<div>\n",
       "<style scoped>\n",
       "    .dataframe tbody tr th:only-of-type {\n",
       "        vertical-align: middle;\n",
       "    }\n",
       "\n",
       "    .dataframe tbody tr th {\n",
       "        vertical-align: top;\n",
       "    }\n",
       "\n",
       "    .dataframe thead th {\n",
       "        text-align: right;\n",
       "    }\n",
       "</style>\n",
       "<table border=\"1\" class=\"dataframe\">\n",
       "  <thead>\n",
       "    <tr style=\"text-align: right;\">\n",
       "      <th></th>\n",
       "      <th>company</th>\n",
       "      <th>location</th>\n",
       "      <th>total_laid_off</th>\n",
       "      <th>date</th>\n",
       "      <th>percentage_laid_off</th>\n",
       "      <th>industry</th>\n",
       "      <th>stage</th>\n",
       "      <th>funds_raised</th>\n",
       "      <th>country</th>\n",
       "      <th>date_added</th>\n",
       "    </tr>\n",
       "  </thead>\n",
       "  <tbody>\n",
       "    <tr>\n",
       "      <th>0</th>\n",
       "      <td>False</td>\n",
       "      <td>False</td>\n",
       "      <td>False</td>\n",
       "      <td>False</td>\n",
       "      <td>False</td>\n",
       "      <td>False</td>\n",
       "      <td>False</td>\n",
       "      <td>False</td>\n",
       "      <td>False</td>\n",
       "      <td>False</td>\n",
       "    </tr>\n",
       "    <tr>\n",
       "      <th>1</th>\n",
       "      <td>False</td>\n",
       "      <td>False</td>\n",
       "      <td>True</td>\n",
       "      <td>False</td>\n",
       "      <td>False</td>\n",
       "      <td>False</td>\n",
       "      <td>False</td>\n",
       "      <td>False</td>\n",
       "      <td>False</td>\n",
       "      <td>False</td>\n",
       "    </tr>\n",
       "    <tr>\n",
       "      <th>2</th>\n",
       "      <td>False</td>\n",
       "      <td>False</td>\n",
       "      <td>False</td>\n",
       "      <td>False</td>\n",
       "      <td>False</td>\n",
       "      <td>False</td>\n",
       "      <td>False</td>\n",
       "      <td>False</td>\n",
       "      <td>False</td>\n",
       "      <td>False</td>\n",
       "    </tr>\n",
       "    <tr>\n",
       "      <th>3</th>\n",
       "      <td>False</td>\n",
       "      <td>False</td>\n",
       "      <td>False</td>\n",
       "      <td>False</td>\n",
       "      <td>True</td>\n",
       "      <td>False</td>\n",
       "      <td>False</td>\n",
       "      <td>False</td>\n",
       "      <td>False</td>\n",
       "      <td>False</td>\n",
       "    </tr>\n",
       "    <tr>\n",
       "      <th>4</th>\n",
       "      <td>False</td>\n",
       "      <td>False</td>\n",
       "      <td>False</td>\n",
       "      <td>False</td>\n",
       "      <td>True</td>\n",
       "      <td>False</td>\n",
       "      <td>False</td>\n",
       "      <td>False</td>\n",
       "      <td>False</td>\n",
       "      <td>False</td>\n",
       "    </tr>\n",
       "    <tr>\n",
       "      <th>...</th>\n",
       "      <td>...</td>\n",
       "      <td>...</td>\n",
       "      <td>...</td>\n",
       "      <td>...</td>\n",
       "      <td>...</td>\n",
       "      <td>...</td>\n",
       "      <td>...</td>\n",
       "      <td>...</td>\n",
       "      <td>...</td>\n",
       "      <td>...</td>\n",
       "    </tr>\n",
       "    <tr>\n",
       "      <th>4122</th>\n",
       "      <td>False</td>\n",
       "      <td>False</td>\n",
       "      <td>True</td>\n",
       "      <td>False</td>\n",
       "      <td>False</td>\n",
       "      <td>False</td>\n",
       "      <td>False</td>\n",
       "      <td>False</td>\n",
       "      <td>False</td>\n",
       "      <td>False</td>\n",
       "    </tr>\n",
       "    <tr>\n",
       "      <th>4123</th>\n",
       "      <td>False</td>\n",
       "      <td>False</td>\n",
       "      <td>False</td>\n",
       "      <td>False</td>\n",
       "      <td>False</td>\n",
       "      <td>False</td>\n",
       "      <td>False</td>\n",
       "      <td>False</td>\n",
       "      <td>False</td>\n",
       "      <td>False</td>\n",
       "    </tr>\n",
       "    <tr>\n",
       "      <th>4124</th>\n",
       "      <td>False</td>\n",
       "      <td>False</td>\n",
       "      <td>False</td>\n",
       "      <td>False</td>\n",
       "      <td>False</td>\n",
       "      <td>False</td>\n",
       "      <td>False</td>\n",
       "      <td>False</td>\n",
       "      <td>False</td>\n",
       "      <td>False</td>\n",
       "    </tr>\n",
       "    <tr>\n",
       "      <th>4125</th>\n",
       "      <td>False</td>\n",
       "      <td>False</td>\n",
       "      <td>False</td>\n",
       "      <td>False</td>\n",
       "      <td>False</td>\n",
       "      <td>False</td>\n",
       "      <td>False</td>\n",
       "      <td>False</td>\n",
       "      <td>False</td>\n",
       "      <td>False</td>\n",
       "    </tr>\n",
       "    <tr>\n",
       "      <th>4126</th>\n",
       "      <td>False</td>\n",
       "      <td>False</td>\n",
       "      <td>False</td>\n",
       "      <td>False</td>\n",
       "      <td>True</td>\n",
       "      <td>False</td>\n",
       "      <td>False</td>\n",
       "      <td>False</td>\n",
       "      <td>False</td>\n",
       "      <td>False</td>\n",
       "    </tr>\n",
       "  </tbody>\n",
       "</table>\n",
       "<p>4127 rows × 10 columns</p>\n",
       "</div>"
      ],
      "text/plain": [
       "      company  location  total_laid_off   date  percentage_laid_off  industry  \\\n",
       "0       False     False           False  False                False     False   \n",
       "1       False     False            True  False                False     False   \n",
       "2       False     False           False  False                False     False   \n",
       "3       False     False           False  False                 True     False   \n",
       "4       False     False           False  False                 True     False   \n",
       "...       ...       ...             ...    ...                  ...       ...   \n",
       "4122    False     False            True  False                False     False   \n",
       "4123    False     False           False  False                False     False   \n",
       "4124    False     False           False  False                False     False   \n",
       "4125    False     False           False  False                False     False   \n",
       "4126    False     False           False  False                 True     False   \n",
       "\n",
       "      stage  funds_raised  country  date_added  \n",
       "0     False         False    False       False  \n",
       "1     False         False    False       False  \n",
       "2     False         False    False       False  \n",
       "3     False         False    False       False  \n",
       "4     False         False    False       False  \n",
       "...     ...           ...      ...         ...  \n",
       "4122  False         False    False       False  \n",
       "4123  False         False    False       False  \n",
       "4124  False         False    False       False  \n",
       "4125  False         False    False       False  \n",
       "4126  False         False    False       False  \n",
       "\n",
       "[4127 rows x 10 columns]"
      ]
     },
     "execution_count": 142,
     "metadata": {},
     "output_type": "execute_result"
    }
   ],
   "source": [
    "data.isna()"
   ]
  },
  {
   "cell_type": "code",
   "execution_count": 143,
   "id": "0d765688",
   "metadata": {},
   "outputs": [
    {
     "data": {
      "text/plain": [
       "company                   0\n",
       "location                  1\n",
       "total_laid_off         1438\n",
       "date                      0\n",
       "percentage_laid_off    1501\n",
       "industry                  2\n",
       "stage                     7\n",
       "funds_raised            455\n",
       "country                   2\n",
       "date_added                0\n",
       "dtype: int64"
      ]
     },
     "execution_count": 143,
     "metadata": {},
     "output_type": "execute_result"
    }
   ],
   "source": [
    "data.isna().sum()"
   ]
  },
  {
   "cell_type": "markdown",
   "id": "b80b6fe7",
   "metadata": {},
   "source": [
    "### We can analyse , whether we have to drop rows or replace with needful"
   ]
  },
  {
   "cell_type": "code",
   "execution_count": 144,
   "id": "0e0f557a",
   "metadata": {},
   "outputs": [
    {
     "data": {
      "text/html": [
       "<div>\n",
       "<style scoped>\n",
       "    .dataframe tbody tr th:only-of-type {\n",
       "        vertical-align: middle;\n",
       "    }\n",
       "\n",
       "    .dataframe tbody tr th {\n",
       "        vertical-align: top;\n",
       "    }\n",
       "\n",
       "    .dataframe thead th {\n",
       "        text-align: right;\n",
       "    }\n",
       "</style>\n",
       "<table border=\"1\" class=\"dataframe\">\n",
       "  <thead>\n",
       "    <tr style=\"text-align: right;\">\n",
       "      <th></th>\n",
       "      <th>company</th>\n",
       "      <th>location</th>\n",
       "      <th>total_laid_off</th>\n",
       "      <th>date</th>\n",
       "      <th>percentage_laid_off</th>\n",
       "      <th>industry</th>\n",
       "      <th>stage</th>\n",
       "      <th>funds_raised</th>\n",
       "      <th>country</th>\n",
       "      <th>date_added</th>\n",
       "    </tr>\n",
       "  </thead>\n",
       "  <tbody>\n",
       "    <tr>\n",
       "      <th>4027</th>\n",
       "      <td>Maven</td>\n",
       "      <td>Seattle</td>\n",
       "      <td>31.0</td>\n",
       "      <td>3/30/2020</td>\n",
       "      <td>9%</td>\n",
       "      <td>Media</td>\n",
       "      <td>Post-IPO</td>\n",
       "      <td>$77</td>\n",
       "      <td>United States</td>\n",
       "      <td>4/8/2020</td>\n",
       "    </tr>\n",
       "    <tr>\n",
       "      <th>4028</th>\n",
       "      <td>Blume Global</td>\n",
       "      <td>SF Bay Area</td>\n",
       "      <td>30.0</td>\n",
       "      <td>3/30/2020</td>\n",
       "      <td>10%</td>\n",
       "      <td>Logistics</td>\n",
       "      <td>Unknown</td>\n",
       "      <td>NaN</td>\n",
       "      <td>United States</td>\n",
       "      <td>4/1/2020</td>\n",
       "    </tr>\n",
       "    <tr>\n",
       "      <th>4029</th>\n",
       "      <td>Catalant</td>\n",
       "      <td>Boston</td>\n",
       "      <td>30.0</td>\n",
       "      <td>3/30/2020</td>\n",
       "      <td>NaN</td>\n",
       "      <td>Other</td>\n",
       "      <td>Series E</td>\n",
       "      <td>$110</td>\n",
       "      <td>United States</td>\n",
       "      <td>3/31/2020</td>\n",
       "    </tr>\n",
       "    <tr>\n",
       "      <th>4030</th>\n",
       "      <td>Starship Technologies</td>\n",
       "      <td>Tallinn,Non-U.S.</td>\n",
       "      <td>30.0</td>\n",
       "      <td>3/30/2020</td>\n",
       "      <td>NaN</td>\n",
       "      <td>Transportation</td>\n",
       "      <td>Series A</td>\n",
       "      <td>$82</td>\n",
       "      <td>Estonia</td>\n",
       "      <td>4/8/2020</td>\n",
       "    </tr>\n",
       "    <tr>\n",
       "      <th>4031</th>\n",
       "      <td>Loftsmart</td>\n",
       "      <td>New York City</td>\n",
       "      <td>25.0</td>\n",
       "      <td>3/30/2020</td>\n",
       "      <td>75%</td>\n",
       "      <td>Real Estate</td>\n",
       "      <td>Series A</td>\n",
       "      <td>$18</td>\n",
       "      <td>United States</td>\n",
       "      <td>4/6/2020</td>\n",
       "    </tr>\n",
       "    <tr>\n",
       "      <th>...</th>\n",
       "      <td>...</td>\n",
       "      <td>...</td>\n",
       "      <td>...</td>\n",
       "      <td>...</td>\n",
       "      <td>...</td>\n",
       "      <td>...</td>\n",
       "      <td>...</td>\n",
       "      <td>...</td>\n",
       "      <td>...</td>\n",
       "      <td>...</td>\n",
       "    </tr>\n",
       "    <tr>\n",
       "      <th>4122</th>\n",
       "      <td>Service</td>\n",
       "      <td>Los Angeles</td>\n",
       "      <td>NaN</td>\n",
       "      <td>3/16/2020</td>\n",
       "      <td>100%</td>\n",
       "      <td>Travel</td>\n",
       "      <td>Seed</td>\n",
       "      <td>$5</td>\n",
       "      <td>United States</td>\n",
       "      <td>8/31/2020</td>\n",
       "    </tr>\n",
       "    <tr>\n",
       "      <th>4123</th>\n",
       "      <td>HopSkipDrive</td>\n",
       "      <td>Los Angeles</td>\n",
       "      <td>8.0</td>\n",
       "      <td>3/13/2020</td>\n",
       "      <td>10%</td>\n",
       "      <td>Transportation</td>\n",
       "      <td>Unknown</td>\n",
       "      <td>$45</td>\n",
       "      <td>United States</td>\n",
       "      <td>4/3/2020</td>\n",
       "    </tr>\n",
       "    <tr>\n",
       "      <th>4124</th>\n",
       "      <td>Panda Squad</td>\n",
       "      <td>SF Bay Area</td>\n",
       "      <td>6.0</td>\n",
       "      <td>3/13/2020</td>\n",
       "      <td>75%</td>\n",
       "      <td>Consumer</td>\n",
       "      <td>Seed</td>\n",
       "      <td>$1</td>\n",
       "      <td>United States</td>\n",
       "      <td>4/17/2020</td>\n",
       "    </tr>\n",
       "    <tr>\n",
       "      <th>4125</th>\n",
       "      <td>Tamara Mellon</td>\n",
       "      <td>Los Angeles</td>\n",
       "      <td>20.0</td>\n",
       "      <td>3/12/2020</td>\n",
       "      <td>40%</td>\n",
       "      <td>Retail</td>\n",
       "      <td>Series C</td>\n",
       "      <td>$90</td>\n",
       "      <td>United States</td>\n",
       "      <td>3/31/2020</td>\n",
       "    </tr>\n",
       "    <tr>\n",
       "      <th>4126</th>\n",
       "      <td>EasyPost</td>\n",
       "      <td>Salt Lake City</td>\n",
       "      <td>75.0</td>\n",
       "      <td>3/11/2020</td>\n",
       "      <td>NaN</td>\n",
       "      <td>Logistics</td>\n",
       "      <td>Series A</td>\n",
       "      <td>$12</td>\n",
       "      <td>United States</td>\n",
       "      <td>3/31/2020</td>\n",
       "    </tr>\n",
       "  </tbody>\n",
       "</table>\n",
       "<p>100 rows × 10 columns</p>\n",
       "</div>"
      ],
      "text/plain": [
       "                    company          location  total_laid_off       date  \\\n",
       "4027                  Maven           Seattle            31.0  3/30/2020   \n",
       "4028           Blume Global       SF Bay Area            30.0  3/30/2020   \n",
       "4029               Catalant            Boston            30.0  3/30/2020   \n",
       "4030  Starship Technologies  Tallinn,Non-U.S.            30.0  3/30/2020   \n",
       "4031              Loftsmart     New York City            25.0  3/30/2020   \n",
       "...                     ...               ...             ...        ...   \n",
       "4122                Service       Los Angeles             NaN  3/16/2020   \n",
       "4123           HopSkipDrive       Los Angeles             8.0  3/13/2020   \n",
       "4124            Panda Squad       SF Bay Area             6.0  3/13/2020   \n",
       "4125          Tamara Mellon       Los Angeles            20.0  3/12/2020   \n",
       "4126               EasyPost    Salt Lake City            75.0  3/11/2020   \n",
       "\n",
       "     percentage_laid_off        industry     stage funds_raised  \\\n",
       "4027                  9%           Media  Post-IPO          $77   \n",
       "4028                 10%       Logistics   Unknown          NaN   \n",
       "4029                 NaN           Other  Series E         $110   \n",
       "4030                 NaN  Transportation  Series A          $82   \n",
       "4031                 75%     Real Estate  Series A          $18   \n",
       "...                  ...             ...       ...          ...   \n",
       "4122                100%          Travel      Seed           $5   \n",
       "4123                 10%  Transportation   Unknown          $45   \n",
       "4124                 75%        Consumer      Seed           $1   \n",
       "4125                 40%          Retail  Series C          $90   \n",
       "4126                 NaN       Logistics  Series A          $12   \n",
       "\n",
       "            country date_added  \n",
       "4027  United States   4/8/2020  \n",
       "4028  United States   4/1/2020  \n",
       "4029  United States  3/31/2020  \n",
       "4030        Estonia   4/8/2020  \n",
       "4031  United States   4/6/2020  \n",
       "...             ...        ...  \n",
       "4122  United States  8/31/2020  \n",
       "4123  United States   4/3/2020  \n",
       "4124  United States  4/17/2020  \n",
       "4125  United States  3/31/2020  \n",
       "4126  United States  3/31/2020  \n",
       "\n",
       "[100 rows x 10 columns]"
      ]
     },
     "execution_count": 144,
     "metadata": {},
     "output_type": "execute_result"
    }
   ],
   "source": [
    "data.tail(100)"
   ]
  },
  {
   "cell_type": "markdown",
   "id": "8d3b6ef4",
   "metadata": {},
   "source": [
    "### We can remove na values."
   ]
  },
  {
   "cell_type": "code",
   "execution_count": 145,
   "id": "c5635383",
   "metadata": {},
   "outputs": [],
   "source": [
    "data.dropna(inplace=True)"
   ]
  },
  {
   "cell_type": "code",
   "execution_count": 146,
   "id": "a246843c",
   "metadata": {},
   "outputs": [
    {
     "data": {
      "text/html": [
       "<div>\n",
       "<style scoped>\n",
       "    .dataframe tbody tr th:only-of-type {\n",
       "        vertical-align: middle;\n",
       "    }\n",
       "\n",
       "    .dataframe tbody tr th {\n",
       "        vertical-align: top;\n",
       "    }\n",
       "\n",
       "    .dataframe thead th {\n",
       "        text-align: right;\n",
       "    }\n",
       "</style>\n",
       "<table border=\"1\" class=\"dataframe\">\n",
       "  <thead>\n",
       "    <tr style=\"text-align: right;\">\n",
       "      <th></th>\n",
       "      <th>company</th>\n",
       "      <th>location</th>\n",
       "      <th>total_laid_off</th>\n",
       "      <th>date</th>\n",
       "      <th>percentage_laid_off</th>\n",
       "      <th>industry</th>\n",
       "      <th>stage</th>\n",
       "      <th>funds_raised</th>\n",
       "      <th>country</th>\n",
       "      <th>date_added</th>\n",
       "    </tr>\n",
       "  </thead>\n",
       "  <tbody>\n",
       "    <tr>\n",
       "      <th>0</th>\n",
       "      <td>Kaltura</td>\n",
       "      <td>New York City</td>\n",
       "      <td>70.0</td>\n",
       "      <td>8/7/2025</td>\n",
       "      <td>10%</td>\n",
       "      <td>Media</td>\n",
       "      <td>Post-IPO</td>\n",
       "      <td>$166</td>\n",
       "      <td>United States</td>\n",
       "      <td>8/10/2025</td>\n",
       "    </tr>\n",
       "    <tr>\n",
       "      <th>2</th>\n",
       "      <td>Yotpo</td>\n",
       "      <td>New York City</td>\n",
       "      <td>200.0</td>\n",
       "      <td>8/5/2025</td>\n",
       "      <td>34%</td>\n",
       "      <td>Marketing</td>\n",
       "      <td>Unknown</td>\n",
       "      <td>$436</td>\n",
       "      <td>United States</td>\n",
       "      <td>8/5/2025</td>\n",
       "    </tr>\n",
       "    <tr>\n",
       "      <th>5</th>\n",
       "      <td>Clear</td>\n",
       "      <td>Bengaluru,Non-U.S.</td>\n",
       "      <td>145.0</td>\n",
       "      <td>8/1/2025</td>\n",
       "      <td>16%</td>\n",
       "      <td>Finance</td>\n",
       "      <td>Series C</td>\n",
       "      <td>$140</td>\n",
       "      <td>India</td>\n",
       "      <td>8/5/2025</td>\n",
       "    </tr>\n",
       "    <tr>\n",
       "      <th>13</th>\n",
       "      <td>ConsenSys</td>\n",
       "      <td>New York City</td>\n",
       "      <td>47.0</td>\n",
       "      <td>7/22/2025</td>\n",
       "      <td>7%</td>\n",
       "      <td>Crypto</td>\n",
       "      <td>Series D</td>\n",
       "      <td>$726</td>\n",
       "      <td>United States</td>\n",
       "      <td>7/22/2025</td>\n",
       "    </tr>\n",
       "    <tr>\n",
       "      <th>19</th>\n",
       "      <td>Scale AI</td>\n",
       "      <td>SF Bay Area</td>\n",
       "      <td>200.0</td>\n",
       "      <td>7/16/2025</td>\n",
       "      <td>14%</td>\n",
       "      <td>Data</td>\n",
       "      <td>Series E</td>\n",
       "      <td>$602</td>\n",
       "      <td>United States</td>\n",
       "      <td>7/17/2025</td>\n",
       "    </tr>\n",
       "    <tr>\n",
       "      <th>...</th>\n",
       "      <td>...</td>\n",
       "      <td>...</td>\n",
       "      <td>...</td>\n",
       "      <td>...</td>\n",
       "      <td>...</td>\n",
       "      <td>...</td>\n",
       "      <td>...</td>\n",
       "      <td>...</td>\n",
       "      <td>...</td>\n",
       "      <td>...</td>\n",
       "    </tr>\n",
       "    <tr>\n",
       "      <th>4120</th>\n",
       "      <td>Inspirato</td>\n",
       "      <td>Denver</td>\n",
       "      <td>130.0</td>\n",
       "      <td>3/16/2020</td>\n",
       "      <td>22%</td>\n",
       "      <td>Travel</td>\n",
       "      <td>Series C</td>\n",
       "      <td>$79</td>\n",
       "      <td>United States</td>\n",
       "      <td>3/31/2020</td>\n",
       "    </tr>\n",
       "    <tr>\n",
       "      <th>4121</th>\n",
       "      <td>Help.com</td>\n",
       "      <td>Austin</td>\n",
       "      <td>16.0</td>\n",
       "      <td>3/16/2020</td>\n",
       "      <td>100%</td>\n",
       "      <td>Support</td>\n",
       "      <td>Seed</td>\n",
       "      <td>$6</td>\n",
       "      <td>United States</td>\n",
       "      <td>4/16/2020</td>\n",
       "    </tr>\n",
       "    <tr>\n",
       "      <th>4123</th>\n",
       "      <td>HopSkipDrive</td>\n",
       "      <td>Los Angeles</td>\n",
       "      <td>8.0</td>\n",
       "      <td>3/13/2020</td>\n",
       "      <td>10%</td>\n",
       "      <td>Transportation</td>\n",
       "      <td>Unknown</td>\n",
       "      <td>$45</td>\n",
       "      <td>United States</td>\n",
       "      <td>4/3/2020</td>\n",
       "    </tr>\n",
       "    <tr>\n",
       "      <th>4124</th>\n",
       "      <td>Panda Squad</td>\n",
       "      <td>SF Bay Area</td>\n",
       "      <td>6.0</td>\n",
       "      <td>3/13/2020</td>\n",
       "      <td>75%</td>\n",
       "      <td>Consumer</td>\n",
       "      <td>Seed</td>\n",
       "      <td>$1</td>\n",
       "      <td>United States</td>\n",
       "      <td>4/17/2020</td>\n",
       "    </tr>\n",
       "    <tr>\n",
       "      <th>4125</th>\n",
       "      <td>Tamara Mellon</td>\n",
       "      <td>Los Angeles</td>\n",
       "      <td>20.0</td>\n",
       "      <td>3/12/2020</td>\n",
       "      <td>40%</td>\n",
       "      <td>Retail</td>\n",
       "      <td>Series C</td>\n",
       "      <td>$90</td>\n",
       "      <td>United States</td>\n",
       "      <td>3/31/2020</td>\n",
       "    </tr>\n",
       "  </tbody>\n",
       "</table>\n",
       "<p>1688 rows × 10 columns</p>\n",
       "</div>"
      ],
      "text/plain": [
       "            company            location  total_laid_off       date  \\\n",
       "0           Kaltura       New York City            70.0   8/7/2025   \n",
       "2             Yotpo       New York City           200.0   8/5/2025   \n",
       "5             Clear  Bengaluru,Non-U.S.           145.0   8/1/2025   \n",
       "13        ConsenSys       New York City            47.0  7/22/2025   \n",
       "19         Scale AI         SF Bay Area           200.0  7/16/2025   \n",
       "...             ...                 ...             ...        ...   \n",
       "4120      Inspirato              Denver           130.0  3/16/2020   \n",
       "4121       Help.com              Austin            16.0  3/16/2020   \n",
       "4123   HopSkipDrive         Los Angeles             8.0  3/13/2020   \n",
       "4124    Panda Squad         SF Bay Area             6.0  3/13/2020   \n",
       "4125  Tamara Mellon         Los Angeles            20.0  3/12/2020   \n",
       "\n",
       "     percentage_laid_off        industry     stage funds_raised  \\\n",
       "0                    10%           Media  Post-IPO         $166   \n",
       "2                    34%       Marketing   Unknown         $436   \n",
       "5                    16%         Finance  Series C         $140   \n",
       "13                    7%          Crypto  Series D         $726   \n",
       "19                   14%            Data  Series E         $602   \n",
       "...                  ...             ...       ...          ...   \n",
       "4120                 22%          Travel  Series C          $79   \n",
       "4121                100%         Support      Seed           $6   \n",
       "4123                 10%  Transportation   Unknown          $45   \n",
       "4124                 75%        Consumer      Seed           $1   \n",
       "4125                 40%          Retail  Series C          $90   \n",
       "\n",
       "            country date_added  \n",
       "0     United States  8/10/2025  \n",
       "2     United States   8/5/2025  \n",
       "5             India   8/5/2025  \n",
       "13    United States  7/22/2025  \n",
       "19    United States  7/17/2025  \n",
       "...             ...        ...  \n",
       "4120  United States  3/31/2020  \n",
       "4121  United States  4/16/2020  \n",
       "4123  United States   4/3/2020  \n",
       "4124  United States  4/17/2020  \n",
       "4125  United States  3/31/2020  \n",
       "\n",
       "[1688 rows x 10 columns]"
      ]
     },
     "execution_count": 146,
     "metadata": {},
     "output_type": "execute_result"
    }
   ],
   "source": [
    "data"
   ]
  },
  {
   "cell_type": "code",
   "execution_count": 147,
   "id": "aeb5643c",
   "metadata": {},
   "outputs": [
    {
     "data": {
      "text/html": [
       "<div>\n",
       "<style scoped>\n",
       "    .dataframe tbody tr th:only-of-type {\n",
       "        vertical-align: middle;\n",
       "    }\n",
       "\n",
       "    .dataframe tbody tr th {\n",
       "        vertical-align: top;\n",
       "    }\n",
       "\n",
       "    .dataframe thead th {\n",
       "        text-align: right;\n",
       "    }\n",
       "</style>\n",
       "<table border=\"1\" class=\"dataframe\">\n",
       "  <thead>\n",
       "    <tr style=\"text-align: right;\">\n",
       "      <th></th>\n",
       "      <th>company</th>\n",
       "      <th>location</th>\n",
       "      <th>total_laid_off</th>\n",
       "      <th>date</th>\n",
       "      <th>percentage_laid_off</th>\n",
       "      <th>industry</th>\n",
       "      <th>stage</th>\n",
       "      <th>funds_raised</th>\n",
       "      <th>country</th>\n",
       "      <th>date_added</th>\n",
       "    </tr>\n",
       "  </thead>\n",
       "  <tbody>\n",
       "    <tr>\n",
       "      <th>5</th>\n",
       "      <td>Clear</td>\n",
       "      <td>Bengaluru,Non-U.S.</td>\n",
       "      <td>145.0</td>\n",
       "      <td>8/1/2025</td>\n",
       "      <td>16%</td>\n",
       "      <td>Finance</td>\n",
       "      <td>Series C</td>\n",
       "      <td>$140</td>\n",
       "      <td>India</td>\n",
       "      <td>8/5/2025</td>\n",
       "    </tr>\n",
       "    <tr>\n",
       "      <th>53</th>\n",
       "      <td>Otipy</td>\n",
       "      <td>New Delhi,Non-U.S.</td>\n",
       "      <td>300.0</td>\n",
       "      <td>5/23/2025</td>\n",
       "      <td>100%</td>\n",
       "      <td>Food</td>\n",
       "      <td>Series B</td>\n",
       "      <td>$44</td>\n",
       "      <td>India</td>\n",
       "      <td>5/26/2025</td>\n",
       "    </tr>\n",
       "    <tr>\n",
       "      <th>68</th>\n",
       "      <td>GenWise</td>\n",
       "      <td>New Delhi,Non-U.S.</td>\n",
       "      <td>15.0</td>\n",
       "      <td>5/5/2025</td>\n",
       "      <td>20%</td>\n",
       "      <td>Other</td>\n",
       "      <td>Seed</td>\n",
       "      <td>$3</td>\n",
       "      <td>India</td>\n",
       "      <td>5/5/2025</td>\n",
       "    </tr>\n",
       "    <tr>\n",
       "      <th>182</th>\n",
       "      <td>ShareChat</td>\n",
       "      <td>Bengaluru,Non-U.S.</td>\n",
       "      <td>27.0</td>\n",
       "      <td>1/15/2025</td>\n",
       "      <td>5%</td>\n",
       "      <td>Marketing</td>\n",
       "      <td>Series D</td>\n",
       "      <td>$222</td>\n",
       "      <td>India</td>\n",
       "      <td>1/16/2025</td>\n",
       "    </tr>\n",
       "    <tr>\n",
       "      <th>299</th>\n",
       "      <td>BeepKart</td>\n",
       "      <td>Bengaluru,Non-U.S.</td>\n",
       "      <td>130.0</td>\n",
       "      <td>10/8/2024</td>\n",
       "      <td>40%</td>\n",
       "      <td>Retail</td>\n",
       "      <td>Series A</td>\n",
       "      <td>$19</td>\n",
       "      <td>India</td>\n",
       "      <td>10/9/2024</td>\n",
       "    </tr>\n",
       "    <tr>\n",
       "      <th>...</th>\n",
       "      <td>...</td>\n",
       "      <td>...</td>\n",
       "      <td>...</td>\n",
       "      <td>...</td>\n",
       "      <td>...</td>\n",
       "      <td>...</td>\n",
       "      <td>...</td>\n",
       "      <td>...</td>\n",
       "      <td>...</td>\n",
       "      <td>...</td>\n",
       "    </tr>\n",
       "    <tr>\n",
       "      <th>3884</th>\n",
       "      <td>Meesho</td>\n",
       "      <td>Bengaluru,Non-U.S.</td>\n",
       "      <td>200.0</td>\n",
       "      <td>4/8/2020</td>\n",
       "      <td>28%</td>\n",
       "      <td>Retail</td>\n",
       "      <td>Series D</td>\n",
       "      <td>$215</td>\n",
       "      <td>India</td>\n",
       "      <td>4/10/2020</td>\n",
       "    </tr>\n",
       "    <tr>\n",
       "      <th>3978</th>\n",
       "      <td>Instamojo</td>\n",
       "      <td>Bengaluru,Non-U.S.</td>\n",
       "      <td>6.0</td>\n",
       "      <td>4/2/2020</td>\n",
       "      <td>6%</td>\n",
       "      <td>Finance</td>\n",
       "      <td>Unknown</td>\n",
       "      <td>$8</td>\n",
       "      <td>India</td>\n",
       "      <td>4/12/2020</td>\n",
       "    </tr>\n",
       "    <tr>\n",
       "      <th>3992</th>\n",
       "      <td>Acko</td>\n",
       "      <td>Mumbai,Non-U.S.</td>\n",
       "      <td>45.0</td>\n",
       "      <td>4/1/2020</td>\n",
       "      <td>9%</td>\n",
       "      <td>Finance</td>\n",
       "      <td>Unknown</td>\n",
       "      <td>$143</td>\n",
       "      <td>India</td>\n",
       "      <td>4/8/2020</td>\n",
       "    </tr>\n",
       "    <tr>\n",
       "      <th>4024</th>\n",
       "      <td>FabHotels</td>\n",
       "      <td>New Delhi,Non-U.S.</td>\n",
       "      <td>80.0</td>\n",
       "      <td>3/30/2020</td>\n",
       "      <td>20%</td>\n",
       "      <td>Travel</td>\n",
       "      <td>Series B</td>\n",
       "      <td>$48</td>\n",
       "      <td>India</td>\n",
       "      <td>4/10/2020</td>\n",
       "    </tr>\n",
       "    <tr>\n",
       "      <th>4038</th>\n",
       "      <td>TravelTriangle</td>\n",
       "      <td>Gurugram,Non-U.S.</td>\n",
       "      <td>250.0</td>\n",
       "      <td>3/28/2020</td>\n",
       "      <td>50%</td>\n",
       "      <td>Travel</td>\n",
       "      <td>Series D</td>\n",
       "      <td>$47</td>\n",
       "      <td>India</td>\n",
       "      <td>4/1/2020</td>\n",
       "    </tr>\n",
       "  </tbody>\n",
       "</table>\n",
       "<p>118 rows × 10 columns</p>\n",
       "</div>"
      ],
      "text/plain": [
       "             company            location  total_laid_off       date  \\\n",
       "5              Clear  Bengaluru,Non-U.S.           145.0   8/1/2025   \n",
       "53             Otipy  New Delhi,Non-U.S.           300.0  5/23/2025   \n",
       "68           GenWise  New Delhi,Non-U.S.            15.0   5/5/2025   \n",
       "182        ShareChat  Bengaluru,Non-U.S.            27.0  1/15/2025   \n",
       "299         BeepKart  Bengaluru,Non-U.S.           130.0  10/8/2024   \n",
       "...              ...                 ...             ...        ...   \n",
       "3884          Meesho  Bengaluru,Non-U.S.           200.0   4/8/2020   \n",
       "3978       Instamojo  Bengaluru,Non-U.S.             6.0   4/2/2020   \n",
       "3992            Acko     Mumbai,Non-U.S.            45.0   4/1/2020   \n",
       "4024       FabHotels  New Delhi,Non-U.S.            80.0  3/30/2020   \n",
       "4038  TravelTriangle   Gurugram,Non-U.S.           250.0  3/28/2020   \n",
       "\n",
       "     percentage_laid_off   industry     stage funds_raised country date_added  \n",
       "5                    16%    Finance  Series C         $140   India   8/5/2025  \n",
       "53                  100%       Food  Series B          $44   India  5/26/2025  \n",
       "68                   20%      Other      Seed           $3   India   5/5/2025  \n",
       "182                   5%  Marketing  Series D         $222   India  1/16/2025  \n",
       "299                  40%     Retail  Series A          $19   India  10/9/2024  \n",
       "...                  ...        ...       ...          ...     ...        ...  \n",
       "3884                 28%     Retail  Series D         $215   India  4/10/2020  \n",
       "3978                  6%    Finance   Unknown           $8   India  4/12/2020  \n",
       "3992                  9%    Finance   Unknown         $143   India   4/8/2020  \n",
       "4024                 20%     Travel  Series B          $48   India  4/10/2020  \n",
       "4038                 50%     Travel  Series D          $47   India   4/1/2020  \n",
       "\n",
       "[118 rows x 10 columns]"
      ]
     },
     "execution_count": 147,
     "metadata": {},
     "output_type": "execute_result"
    }
   ],
   "source": [
    "data[data['country']=='India']"
   ]
  },
  {
   "cell_type": "markdown",
   "id": "c26e6436",
   "metadata": {},
   "source": [
    "### Insted of Bengaluru,Non-U.S,  let's keep  Bengaluru as it's own city"
   ]
  },
  {
   "cell_type": "code",
   "execution_count": 148,
   "id": "a84ed88e",
   "metadata": {},
   "outputs": [],
   "source": [
    "data[\"location\"] = data[\"location\"].str.replace(\",Non-U.S.\", \"\", regex=False)\n"
   ]
  },
  {
   "cell_type": "code",
   "execution_count": 149,
   "id": "a7c27302",
   "metadata": {},
   "outputs": [
    {
     "data": {
      "text/plain": [
       "(1688, 10)"
      ]
     },
     "execution_count": 149,
     "metadata": {},
     "output_type": "execute_result"
    }
   ],
   "source": [
    "data.shape"
   ]
  },
  {
   "cell_type": "code",
   "execution_count": 150,
   "id": "6b203c0c",
   "metadata": {},
   "outputs": [
    {
     "data": {
      "text/plain": [
       "company                0\n",
       "location               0\n",
       "total_laid_off         0\n",
       "date                   0\n",
       "percentage_laid_off    0\n",
       "industry               0\n",
       "stage                  0\n",
       "funds_raised           0\n",
       "country                0\n",
       "date_added             0\n",
       "dtype: int64"
      ]
     },
     "execution_count": 150,
     "metadata": {},
     "output_type": "execute_result"
    }
   ],
   "source": [
    "data.isnull().sum()"
   ]
  },
  {
   "cell_type": "markdown",
   "id": "82ac1d19",
   "metadata": {},
   "source": [
    "## Now Start our study"
   ]
  },
  {
   "cell_type": "markdown",
   "id": "912bcd2a",
   "metadata": {},
   "source": [
    "### 1. How many layoffs occurred in total across all companies?\n"
   ]
  },
  {
   "cell_type": "code",
   "execution_count": 151,
   "id": "aeca18f8",
   "metadata": {},
   "outputs": [
    {
     "data": {
      "text/plain": [
       "np.float64(516759.0)"
      ]
     },
     "execution_count": 151,
     "metadata": {},
     "output_type": "execute_result"
    }
   ],
   "source": [
    "data['total_laid_off'].sum()"
   ]
  },
  {
   "cell_type": "markdown",
   "id": "a5f84a57",
   "metadata": {},
   "source": [
    "### Total Layoffs happened = 516759"
   ]
  },
  {
   "cell_type": "markdown",
   "id": "246ba4a1",
   "metadata": {},
   "source": [
    "### 2. Which company had the highest number of layoffs?\n"
   ]
  },
  {
   "cell_type": "code",
   "execution_count": 152,
   "id": "34ec5888",
   "metadata": {},
   "outputs": [
    {
     "data": {
      "text/plain": [
       "company\n",
       "Intel        37000.0\n",
       "Microsoft    25305.0\n",
       "Amazon       18000.0\n",
       "Name: total_laid_off, dtype: float64"
      ]
     },
     "execution_count": 152,
     "metadata": {},
     "output_type": "execute_result"
    }
   ],
   "source": [
    "data.groupby('company')['total_laid_off'].sum().sort_values(ascending=False).head(3)"
   ]
  },
  {
   "cell_type": "code",
   "execution_count": 153,
   "id": "65e8052d",
   "metadata": {},
   "outputs": [
    {
     "data": {
      "text/html": [
       "<div>\n",
       "<style scoped>\n",
       "    .dataframe tbody tr th:only-of-type {\n",
       "        vertical-align: middle;\n",
       "    }\n",
       "\n",
       "    .dataframe tbody tr th {\n",
       "        vertical-align: top;\n",
       "    }\n",
       "\n",
       "    .dataframe thead th {\n",
       "        text-align: right;\n",
       "    }\n",
       "</style>\n",
       "<table border=\"1\" class=\"dataframe\">\n",
       "  <thead>\n",
       "    <tr style=\"text-align: right;\">\n",
       "      <th></th>\n",
       "      <th>company</th>\n",
       "      <th>location</th>\n",
       "      <th>total_laid_off</th>\n",
       "      <th>date</th>\n",
       "      <th>percentage_laid_off</th>\n",
       "      <th>industry</th>\n",
       "      <th>stage</th>\n",
       "      <th>funds_raised</th>\n",
       "      <th>country</th>\n",
       "      <th>date_added</th>\n",
       "    </tr>\n",
       "  </thead>\n",
       "  <tbody>\n",
       "    <tr>\n",
       "      <th>83</th>\n",
       "      <td>Intel</td>\n",
       "      <td>Sacramento</td>\n",
       "      <td>22000.0</td>\n",
       "      <td>4/23/2025</td>\n",
       "      <td>20%</td>\n",
       "      <td>Hardware</td>\n",
       "      <td>Post-IPO</td>\n",
       "      <td>$12</td>\n",
       "      <td>United States</td>\n",
       "      <td>4/23/2025</td>\n",
       "    </tr>\n",
       "    <tr>\n",
       "      <th>394</th>\n",
       "      <td>Intel</td>\n",
       "      <td>SF Bay Area</td>\n",
       "      <td>15000.0</td>\n",
       "      <td>8/1/2024</td>\n",
       "      <td>15%</td>\n",
       "      <td>Hardware</td>\n",
       "      <td>Post-IPO</td>\n",
       "      <td>$12</td>\n",
       "      <td>United States</td>\n",
       "      <td>8/1/2024</td>\n",
       "    </tr>\n",
       "  </tbody>\n",
       "</table>\n",
       "</div>"
      ],
      "text/plain": [
       "    company     location  total_laid_off       date percentage_laid_off  \\\n",
       "83    Intel   Sacramento         22000.0  4/23/2025                 20%   \n",
       "394   Intel  SF Bay Area         15000.0   8/1/2024                 15%   \n",
       "\n",
       "     industry     stage funds_raised        country date_added  \n",
       "83   Hardware  Post-IPO          $12  United States  4/23/2025  \n",
       "394  Hardware  Post-IPO          $12  United States   8/1/2024  "
      ]
     },
     "execution_count": 153,
     "metadata": {},
     "output_type": "execute_result"
    }
   ],
   "source": [
    "data[data['company']=='Intel']"
   ]
  },
  {
   "cell_type": "markdown",
   "id": "dbfa6a43",
   "metadata": {},
   "source": [
    "### As we can see that , Intel has highest layoffs during whole period"
   ]
  },
  {
   "cell_type": "code",
   "execution_count": 154,
   "id": "f3b4bcac",
   "metadata": {},
   "outputs": [
    {
     "data": {
      "text/plain": [
       "Text(0, 0.5, 'Total Laid Offs')"
      ]
     },
     "execution_count": 154,
     "metadata": {},
     "output_type": "execute_result"
    },
    {
     "data": {
      "image/png": "[encoded data removed]",
      "text/plain": [
       "<Figure size 640x480 with 1 Axes>"
      ]
     },
     "metadata": {},
     "output_type": "display_data"
    }
   ],
   "source": [
    "val = data.groupby('company')['total_laid_off'].sum().sort_values(ascending=False).head(10)\n",
    "plt.bar(val.index,val.values,color=['cyan','green','red','yellow','violet'])\n",
    "plt.xticks(rotation=60)\n",
    "plt.title(\"Top LayOffs By Companies\")\n",
    "plt.xlabel('Companies')\n",
    "plt.ylabel('Total Laid Offs') "
   ]
  },
  {
   "cell_type": "code",
   "execution_count": 155,
   "id": "4b15cd53",
   "metadata": {},
   "outputs": [
    {
     "name": "stdout",
     "output_type": "stream",
     "text": [
      "<class 'pandas.core.frame.DataFrame'>\n",
      "Index: 1688 entries, 0 to 4125\n",
      "Data columns (total 10 columns):\n",
      " #   Column               Non-Null Count  Dtype  \n",
      "---  ------               --------------  -----  \n",
      " 0   company              1688 non-null   object \n",
      " 1   location             1688 non-null   object \n",
      " 2   total_laid_off       1688 non-null   float64\n",
      " 3   date                 1688 non-null   object \n",
      " 4   percentage_laid_off  1688 non-null   object \n",
      " 5   industry             1688 non-null   object \n",
      " 6   stage                1688 non-null   object \n",
      " 7   funds_raised         1688 non-null   object \n",
      " 8   country              1688 non-null   object \n",
      " 9   date_added           1688 non-null   object \n",
      "dtypes: float64(1), object(9)\n",
      "memory usage: 145.1+ KB\n"
     ]
    }
   ],
   "source": [
    "data.info()"
   ]
  },
  {
   "cell_type": "code",
   "execution_count": 156,
   "id": "a3f53da4",
   "metadata": {},
   "outputs": [
    {
     "data": {
      "text/plain": [
       "np.int64(0)"
      ]
     },
     "execution_count": 156,
     "metadata": {},
     "output_type": "execute_result"
    }
   ],
   "source": [
    "data['percentage_laid_off'].isna().sum()"
   ]
  },
  {
   "cell_type": "code",
   "execution_count": 157,
   "id": "13b13d37",
   "metadata": {},
   "outputs": [],
   "source": [
    "data['percentage_laid_off'] = data['percentage_laid_off'].str.replace('%', '', regex=False)"
   ]
  },
  {
   "cell_type": "code",
   "execution_count": 158,
   "id": "47e6c5a1",
   "metadata": {},
   "outputs": [],
   "source": [
    "data['percentage_laid_off']=data['percentage_laid_off'].astype(int)"
   ]
  },
  {
   "cell_type": "markdown",
   "id": "15e74069",
   "metadata": {},
   "source": [
    "### What is the average percentage of layoffs across all companies?"
   ]
  },
  {
   "cell_type": "code",
   "execution_count": 159,
   "id": "64479765",
   "metadata": {},
   "outputs": [
    {
     "data": {
      "text/plain": [
       "np.float64(22.02)"
      ]
     },
     "execution_count": 159,
     "metadata": {},
     "output_type": "execute_result"
    }
   ],
   "source": [
    "round(data['percentage_laid_off'].mean(),2)"
   ]
  },
  {
   "cell_type": "markdown",
   "id": "9e47730b",
   "metadata": {},
   "source": [
    "### Here we can see that , The avarage layoffs during whole is around 22%"
   ]
  },
  {
   "cell_type": "code",
   "execution_count": 160,
   "id": "79b16b2b",
   "metadata": {},
   "outputs": [
    {
     "data": {
      "text/html": [
       "<div>\n",
       "<style scoped>\n",
       "    .dataframe tbody tr th:only-of-type {\n",
       "        vertical-align: middle;\n",
       "    }\n",
       "\n",
       "    .dataframe tbody tr th {\n",
       "        vertical-align: top;\n",
       "    }\n",
       "\n",
       "    .dataframe thead th {\n",
       "        text-align: right;\n",
       "    }\n",
       "</style>\n",
       "<table border=\"1\" class=\"dataframe\">\n",
       "  <thead>\n",
       "    <tr style=\"text-align: right;\">\n",
       "      <th></th>\n",
       "      <th>company</th>\n",
       "      <th>location</th>\n",
       "      <th>total_laid_off</th>\n",
       "      <th>date</th>\n",
       "      <th>percentage_laid_off</th>\n",
       "      <th>industry</th>\n",
       "      <th>stage</th>\n",
       "      <th>funds_raised</th>\n",
       "      <th>country</th>\n",
       "      <th>date_added</th>\n",
       "    </tr>\n",
       "  </thead>\n",
       "  <tbody>\n",
       "    <tr>\n",
       "      <th>0</th>\n",
       "      <td>Kaltura</td>\n",
       "      <td>New York City</td>\n",
       "      <td>70.0</td>\n",
       "      <td>8/7/2025</td>\n",
       "      <td>10</td>\n",
       "      <td>Media</td>\n",
       "      <td>Post-IPO</td>\n",
       "      <td>$166</td>\n",
       "      <td>United States</td>\n",
       "      <td>8/10/2025</td>\n",
       "    </tr>\n",
       "    <tr>\n",
       "      <th>2</th>\n",
       "      <td>Yotpo</td>\n",
       "      <td>New York City</td>\n",
       "      <td>200.0</td>\n",
       "      <td>8/5/2025</td>\n",
       "      <td>34</td>\n",
       "      <td>Marketing</td>\n",
       "      <td>Unknown</td>\n",
       "      <td>$436</td>\n",
       "      <td>United States</td>\n",
       "      <td>8/5/2025</td>\n",
       "    </tr>\n",
       "    <tr>\n",
       "      <th>5</th>\n",
       "      <td>Clear</td>\n",
       "      <td>Bengaluru</td>\n",
       "      <td>145.0</td>\n",
       "      <td>8/1/2025</td>\n",
       "      <td>16</td>\n",
       "      <td>Finance</td>\n",
       "      <td>Series C</td>\n",
       "      <td>$140</td>\n",
       "      <td>India</td>\n",
       "      <td>8/5/2025</td>\n",
       "    </tr>\n",
       "  </tbody>\n",
       "</table>\n",
       "</div>"
      ],
      "text/plain": [
       "   company       location  total_laid_off      date  percentage_laid_off  \\\n",
       "0  Kaltura  New York City            70.0  8/7/2025                   10   \n",
       "2    Yotpo  New York City           200.0  8/5/2025                   34   \n",
       "5    Clear      Bengaluru           145.0  8/1/2025                   16   \n",
       "\n",
       "    industry     stage funds_raised        country date_added  \n",
       "0      Media  Post-IPO         $166  United States  8/10/2025  \n",
       "2  Marketing   Unknown         $436  United States   8/5/2025  \n",
       "5    Finance  Series C         $140          India   8/5/2025  "
      ]
     },
     "execution_count": 160,
     "metadata": {},
     "output_type": "execute_result"
    }
   ],
   "source": [
    "data.head(3)"
   ]
  },
  {
   "cell_type": "markdown",
   "id": "cf42bdb8",
   "metadata": {},
   "source": [
    "<span style='red'> Now, let's see that Which industry saw the highest total layoffs? <span>\n"
   ]
  },
  {
   "cell_type": "code",
   "execution_count": 161,
   "id": "f2b65e5d",
   "metadata": {},
   "outputs": [
    {
     "data": {
      "text/plain": [
       "industry\n",
       "Other             65630.0\n",
       "Transportation    52363.0\n",
       "Retail            50719.0\n",
       "Name: total_laid_off, dtype: float64"
      ]
     },
     "execution_count": 161,
     "metadata": {},
     "output_type": "execute_result"
    }
   ],
   "source": [
    "data.groupby('industry')['total_laid_off'].sum().sort_values(ascending=False).head(3)\n"
   ]
  },
  {
   "cell_type": "markdown",
   "id": "b346de16",
   "metadata": {},
   "source": [
    "### Let's visualize this"
   ]
  },
  {
   "cell_type": "code",
   "execution_count": 162,
   "id": "79004227",
   "metadata": {},
   "outputs": [],
   "source": [
    "visuals = data.groupby('industry')['total_laid_off'].sum().sort_values(ascending=False).head(10)\n",
    "x,y = visuals.index,visuals.values"
   ]
  },
  {
   "cell_type": "code",
   "execution_count": 163,
   "id": "d8bf3bec",
   "metadata": {},
   "outputs": [
    {
     "data": {
      "text/plain": [
       "Text(0, 0.5, 'Industries')"
      ]
     },
     "execution_count": 163,
     "metadata": {},
     "output_type": "execute_result"
    },
    {
     "data": {
      "image/png": "[encoded data removed]",
      "text/plain": [
       "<Figure size 640x480 with 1 Axes>"
      ]
     },
     "metadata": {},
     "output_type": "display_data"
    }
   ],
   "source": [
    "plt.barh(x,y,color=['green' if val < 30000 else 'red' for val in y])\n",
    "plt.xticks(rotation=45)\n",
    "plt.title('Industies VS Total Layoffs')\n",
    "plt.xlabel('Layoffs')\n",
    "plt.ylabel('Industries')"
   ]
  },
  {
   "cell_type": "markdown",
   "id": "72febebb",
   "metadata": {},
   "source": [
    "### Now ,  Which month had the highest number of layoffs?\n"
   ]
  },
  {
   "cell_type": "code",
   "execution_count": 164,
   "id": "691bfe90",
   "metadata": {},
   "outputs": [],
   "source": [
    "data['date'] = pd.to_datetime(data['date'], errors='coerce')\n",
    "data['date_added'] = pd.to_datetime(data['date_added'], errors='coerce')\n"
   ]
  },
  {
   "cell_type": "code",
   "execution_count": 165,
   "id": "f7fb006c",
   "metadata": {},
   "outputs": [
    {
     "data": {
      "text/plain": [
       "date\n",
       "January      96595.0\n",
       "April        77887.0\n",
       "November     58695.0\n",
       "May          53796.0\n",
       "February     53636.0\n",
       "August       42147.0\n",
       "June         32544.0\n",
       "July         31224.0\n",
       "March        29684.0\n",
       "October      17416.0\n",
       "December     13915.0\n",
       "September     9220.0\n",
       "Name: total_laid_off, dtype: float64"
      ]
     },
     "execution_count": 165,
     "metadata": {},
     "output_type": "execute_result"
    }
   ],
   "source": [
    "data.groupby(data['date'].dt.month_name())['total_laid_off'].sum().sort_values(ascending=False)"
   ]
  },
  {
   "cell_type": "markdown",
   "id": "bf776758",
   "metadata": {},
   "source": [
    "####   - **Diagram:** Line chart of layoffs over months.\n"
   ]
  },
  {
   "cell_type": "code",
   "execution_count": 166,
   "id": "076a400f",
   "metadata": {},
   "outputs": [
    {
     "data": {
      "image/png": "[encoded data removed]",
      "text/plain": [
       "<Figure size 640x480 with 1 Axes>"
      ]
     },
     "metadata": {},
     "output_type": "display_data"
    }
   ],
   "source": [
    "lc = data.groupby([data['date'].dt.month, data['date'].dt.month_name()])['total_laid_off'].sum().sort_index()\n",
    "\n",
    "x, y = lc.index.get_level_values(1), lc.values  # Use month_name for x-axis\n",
    "plt.plot(x, y, color='violet', marker='o')\n",
    "plt.xticks(rotation=45)\n",
    "plt.show()\n"
   ]
  },
  {
   "cell_type": "markdown",
   "id": "94f20afc",
   "metadata": {},
   "source": [
    "### Can be clearly seen that January is the month of highest layoffs with a huge amount"
   ]
  },
  {
   "cell_type": "markdown",
   "id": "47c254c4",
   "metadata": {},
   "source": [
    "### Let's Identify trends in layoffs over the months—are they increasing or decreasing?"
   ]
  },
  {
   "cell_type": "code",
   "execution_count": 167,
   "id": "0d341bad",
   "metadata": {},
   "outputs": [
    {
     "data": {
      "text/plain": [
       "date  date          \n",
       "1     January   170       NaN\n",
       "                174     225.0\n",
       "                176     183.0\n",
       "                177      88.0\n",
       "                182      68.5\n",
       "                        ...  \n",
       "12    December  2347    105.0\n",
       "                2349     74.0\n",
       "                2350     42.5\n",
       "                3450    468.5\n",
       "                3493    510.0\n",
       "Name: total_laid_off, Length: 1688, dtype: float64"
      ]
     },
     "execution_count": 167,
     "metadata": {},
     "output_type": "execute_result"
    }
   ],
   "source": [
    "data.groupby([data['date'].dt.month, data['date'].dt.month_name()])['total_laid_off'].rolling(window=2).mean()"
   ]
  },
  {
   "cell_type": "markdown",
   "id": "93a90390",
   "metadata": {},
   "source": [
    "### Let's visualize this"
   ]
  },
  {
   "cell_type": "code",
   "execution_count": 168,
   "id": "c30cf8aa",
   "metadata": {},
   "outputs": [
    {
     "data": {
      "image/png": "[encoded data removed]",
      "text/plain": [
       "<Figure size 640x480 with 1 Axes>"
      ]
     },
     "metadata": {},
     "output_type": "display_data"
    }
   ],
   "source": [
    "lc = data.groupby([data['date'].dt.month, data['date'].dt.month_name()])['total_laid_off'].rolling(window=2).mean()\n",
    "\n",
    "x, y = lc.index.get_level_values(1), lc.values  \n",
    "plt.bar(x, y, color=['green' if val < 2000 else 'red' for val in y])\n",
    "plt.xlabel('Months')\n",
    "plt.ylabel('Average Layoffs')\n",
    "plt.title('Rolling Average layoffs VS Months')\n",
    "plt.xticks(rotation=45)\n",
    "plt.show()\n"
   ]
  },
  {
   "cell_type": "markdown",
   "id": "6bea2a91",
   "metadata": {},
   "source": [
    "### Can be seen that layoff is decresing at the end of every quarter like March,June,September , December"
   ]
  },
  {
   "cell_type": "markdown",
   "id": "e1db401e",
   "metadata": {},
   "source": [
    "### Let's Find the earliest and latest layoff events in the dataset.\n"
   ]
  },
  {
   "cell_type": "code",
   "execution_count": 169,
   "id": "c064e14d",
   "metadata": {},
   "outputs": [
    {
     "data": {
      "text/html": [
       "<div>\n",
       "<style scoped>\n",
       "    .dataframe tbody tr th:only-of-type {\n",
       "        vertical-align: middle;\n",
       "    }\n",
       "\n",
       "    .dataframe tbody tr th {\n",
       "        vertical-align: top;\n",
       "    }\n",
       "\n",
       "    .dataframe thead th {\n",
       "        text-align: right;\n",
       "    }\n",
       "</style>\n",
       "<table border=\"1\" class=\"dataframe\">\n",
       "  <thead>\n",
       "    <tr style=\"text-align: right;\">\n",
       "      <th></th>\n",
       "      <th>company</th>\n",
       "      <th>location</th>\n",
       "      <th>total_laid_off</th>\n",
       "      <th>date</th>\n",
       "      <th>percentage_laid_off</th>\n",
       "      <th>industry</th>\n",
       "      <th>stage</th>\n",
       "      <th>funds_raised</th>\n",
       "      <th>country</th>\n",
       "      <th>date_added</th>\n",
       "    </tr>\n",
       "  </thead>\n",
       "  <tbody>\n",
       "    <tr>\n",
       "      <th>4125</th>\n",
       "      <td>Tamara Mellon</td>\n",
       "      <td>Los Angeles</td>\n",
       "      <td>20.0</td>\n",
       "      <td>2020-03-12</td>\n",
       "      <td>40</td>\n",
       "      <td>Retail</td>\n",
       "      <td>Series C</td>\n",
       "      <td>$90</td>\n",
       "      <td>United States</td>\n",
       "      <td>2020-03-31</td>\n",
       "    </tr>\n",
       "  </tbody>\n",
       "</table>\n",
       "</div>"
      ],
      "text/plain": [
       "            company     location  total_laid_off       date  \\\n",
       "4125  Tamara Mellon  Los Angeles            20.0 2020-03-12   \n",
       "\n",
       "      percentage_laid_off industry     stage funds_raised        country  \\\n",
       "4125                   40   Retail  Series C          $90  United States   \n",
       "\n",
       "     date_added  \n",
       "4125 2020-03-31  "
      ]
     },
     "execution_count": 169,
     "metadata": {},
     "output_type": "execute_result"
    }
   ],
   "source": [
    "data.sort_values(by='date').head(1)"
   ]
  },
  {
   "cell_type": "code",
   "execution_count": 170,
   "id": "f6de7df2",
   "metadata": {},
   "outputs": [
    {
     "data": {
      "text/html": [
       "<div>\n",
       "<style scoped>\n",
       "    .dataframe tbody tr th:only-of-type {\n",
       "        vertical-align: middle;\n",
       "    }\n",
       "\n",
       "    .dataframe tbody tr th {\n",
       "        vertical-align: top;\n",
       "    }\n",
       "\n",
       "    .dataframe thead th {\n",
       "        text-align: right;\n",
       "    }\n",
       "</style>\n",
       "<table border=\"1\" class=\"dataframe\">\n",
       "  <thead>\n",
       "    <tr style=\"text-align: right;\">\n",
       "      <th></th>\n",
       "      <th>company</th>\n",
       "      <th>location</th>\n",
       "      <th>total_laid_off</th>\n",
       "      <th>date</th>\n",
       "      <th>percentage_laid_off</th>\n",
       "      <th>industry</th>\n",
       "      <th>stage</th>\n",
       "      <th>funds_raised</th>\n",
       "      <th>country</th>\n",
       "      <th>date_added</th>\n",
       "    </tr>\n",
       "  </thead>\n",
       "  <tbody>\n",
       "    <tr>\n",
       "      <th>0</th>\n",
       "      <td>Kaltura</td>\n",
       "      <td>New York City</td>\n",
       "      <td>70.0</td>\n",
       "      <td>2025-08-07</td>\n",
       "      <td>10</td>\n",
       "      <td>Media</td>\n",
       "      <td>Post-IPO</td>\n",
       "      <td>$166</td>\n",
       "      <td>United States</td>\n",
       "      <td>2025-08-10</td>\n",
       "    </tr>\n",
       "  </tbody>\n",
       "</table>\n",
       "</div>"
      ],
      "text/plain": [
       "   company       location  total_laid_off       date  percentage_laid_off  \\\n",
       "0  Kaltura  New York City            70.0 2025-08-07                   10   \n",
       "\n",
       "  industry     stage funds_raised        country date_added  \n",
       "0    Media  Post-IPO         $166  United States 2025-08-10  "
      ]
     },
     "execution_count": 170,
     "metadata": {},
     "output_type": "execute_result"
    }
   ],
   "source": [
    "data.sort_values(by='date').tail(1)"
   ]
  },
  {
   "cell_type": "markdown",
   "id": "282c966e",
   "metadata": {},
   "source": [
    "### 9. Which week of the year saw the most layoffs?\n"
   ]
  },
  {
   "cell_type": "code",
   "execution_count": 171,
   "id": "1b2a7280",
   "metadata": {},
   "outputs": [
    {
     "data": {
      "text/plain": [
       "week\n",
       "17    36280.0\n",
       "3     31404.0\n",
       "16    23988.0\n",
       "46    21013.0\n",
       "1     20678.0\n",
       "31    20081.0\n",
       "7     19626.0\n",
       "4     18896.0\n",
       "45    18874.0\n",
       "19    17570.0\n",
       "6     16654.0\n",
       "27    14911.0\n",
       "44    13289.0\n",
       "20    12521.0\n",
       "5     12410.0\n",
       "21    11834.0\n",
       "32    11808.0\n",
       "14    11407.0\n",
       "18    11214.0\n",
       "2     10900.0\n",
       "8     10384.0\n",
       "13     8800.0\n",
       "23     8607.0\n",
       "10     8258.0\n",
       "15     7890.0\n",
       "28     7313.0\n",
       "22     7244.0\n",
       "9      7132.0\n",
       "24     6889.0\n",
       "49     6769.0\n",
       "48     6540.0\n",
       "26     6531.0\n",
       "25     6397.0\n",
       "52     6250.0\n",
       "41     5600.0\n",
       "30     5392.0\n",
       "40     5020.0\n",
       "35     4306.0\n",
       "12     4022.0\n",
       "34     3913.0\n",
       "39     3753.0\n",
       "33     3130.0\n",
       "50     3032.0\n",
       "37     2969.0\n",
       "29     2674.0\n",
       "42     2659.0\n",
       "43     2539.0\n",
       "47     1961.0\n",
       "36     1886.0\n",
       "11     1567.0\n",
       "51     1422.0\n",
       "38      552.0\n",
       "Name: total_laid_off, dtype: float64"
      ]
     },
     "execution_count": 171,
     "metadata": {},
     "output_type": "execute_result"
    }
   ],
   "source": [
    "data.groupby(data['date'].dt.isocalendar().week.sort_values())['total_laid_off'].sum().sort_values(ascending=False)"
   ]
  },
  {
   "cell_type": "code",
   "execution_count": 172,
   "id": "ffc26bb0",
   "metadata": {},
   "outputs": [],
   "source": [
    "import seaborn as sns"
   ]
  },
  {
   "cell_type": "code",
   "execution_count": 173,
   "id": "c539b862",
   "metadata": {},
   "outputs": [
    {
     "data": {
      "text/plain": [
       "Text(0, 0.5, 'Week')"
      ]
     },
     "execution_count": 173,
     "metadata": {},
     "output_type": "execute_result"
    },
    {
     "data": {
      "image/png": "[encoded data removed]",
      "text/plain": [
       "<Figure size 640x480 with 1 Axes>"
      ]
     },
     "metadata": {},
     "output_type": "display_data"
    }
   ],
   "source": [
    "box = data.groupby(data['date'].dt.isocalendar().week.sort_values())['total_laid_off'].sum().sort_values(ascending=False)\n",
    "sns.boxplot(box.index,color='cyan',patch_artist=True)\n",
    "plt.title('Boxplot of Layoffs in weeks')\n",
    "plt.ylabel('Week')"
   ]
  },
  {
   "cell_type": "markdown",
   "id": "bcb148fc",
   "metadata": {},
   "source": [
    "### As we can see this, that most of the layoffs happened from 15th to nearly 40th week."
   ]
  },
  {
   "cell_type": "markdown",
   "id": "63a81493",
   "metadata": {},
   "source": [
    "### Let's Compare layoffs between 2025 and 2024—how did they change?\n"
   ]
  },
  {
   "cell_type": "code",
   "execution_count": 174,
   "id": "be84191a",
   "metadata": {},
   "outputs": [],
   "source": [
    "data_2025=data[data['date'].dt.year==2025]\n",
    "data_2024=data[data['date'].dt.year==2024]"
   ]
  },
  {
   "cell_type": "code",
   "execution_count": 175,
   "id": "bcd56480",
   "metadata": {},
   "outputs": [],
   "source": [
    "months = np.arange(1, 13)\n",
    "\n",
    "data_2024_1 = (\n",
    "    data_2024.groupby(data_2024['date'].dt.month)['total_laid_off']\n",
    "    .sum()\n",
    "    .reindex(months, fill_value=0)\n",
    ")\n",
    "\n",
    "data_2025_1 = (\n",
    "    data_2025.groupby(data_2025['date'].dt.month)['total_laid_off']\n",
    "    .sum()\n",
    "    .reindex(months, fill_value=0)\n",
    ")"
   ]
  },
  {
   "cell_type": "code",
   "execution_count": 176,
   "id": "e51920a0",
   "metadata": {},
   "outputs": [
    {
     "data": {
      "image/png": "[encoded data removed]",
      "text/plain": [
       "<Figure size 640x480 with 1 Axes>"
      ]
     },
     "metadata": {},
     "output_type": "display_data"
    }
   ],
   "source": [
    "\n",
    "x = np.arange(len(months))\n",
    "width = 0.35\n",
    "\n",
    "# Plot\n",
    "plt.bar(x - width/2, data_2024_1.values, width, label='2024')\n",
    "plt.bar(x + width/2, data_2025_1.values, width, label='2025')\n",
    "\n",
    "# Month names for xticks\n",
    "plt.xticks(x, pd.to_datetime(months, format='%m').month_name(), rotation=45)\n",
    "\n",
    "plt.xlabel(\"Month\")\n",
    "plt.ylabel(\"Total Layoffs\")\n",
    "plt.title(\"Monthly Layoffs Comparison (2024 vs 2025)\")\n",
    "plt.legend()\n",
    "plt.tight_layout()\n",
    "plt.show()\n"
   ]
  },
  {
   "cell_type": "markdown",
   "id": "34ebf3fa",
   "metadata": {},
   "source": [
    "### Now, let's discuss, Which city had the highest total layoffs?\n"
   ]
  },
  {
   "cell_type": "code",
   "execution_count": 177,
   "id": "f10e08e0",
   "metadata": {},
   "outputs": [
    {
     "data": {
      "text/plain": [
       "location\n",
       "SF Bay Area      184813.0\n",
       "Seattle           54391.0\n",
       "New York City     28686.0\n",
       "Sacramento        22065.0\n",
       "Bengaluru         19969.0\n",
       "Name: total_laid_off, dtype: float64"
      ]
     },
     "execution_count": 177,
     "metadata": {},
     "output_type": "execute_result"
    }
   ],
   "source": [
    "data.groupby('location')['total_laid_off'].sum().sort_values(ascending=False).head(5)"
   ]
  },
  {
   "cell_type": "markdown",
   "id": "7987f3c6",
   "metadata": {},
   "source": [
    "### Can be clearly seen that SF Bay Area has the highest no. of layoffs dueing whole"
   ]
  },
  {
   "cell_type": "code",
   "execution_count": 178,
   "id": "fb95ed6b",
   "metadata": {},
   "outputs": [
    {
     "data": {
      "text/plain": [
       "Text(0.5, 1.0, 'City VS Layoffs')"
      ]
     },
     "execution_count": 178,
     "metadata": {},
     "output_type": "execute_result"
    },
    {
     "data": {
      "image/png": "[encoded data removed]",
      "text/plain": [
       "<Figure size 640x480 with 1 Axes>"
      ]
     },
     "metadata": {},
     "output_type": "display_data"
    }
   ],
   "source": [
    "visuals = data.groupby('location')['total_laid_off'].sum().sort_values(ascending=False).head(10)\n",
    "x,y = visuals.index,visuals.values\n",
    "plt.bar(x,y,color=['pink','yellow','cyan','red','violet'])\n",
    "plt.xticks(rotation=60)\n",
    "plt.xlabel('Cities')\n",
    "plt.ylabel('Layoffs')\n",
    "plt.title('City VS Layoffs')"
   ]
  },
  {
   "cell_type": "markdown",
   "id": "ea936c92",
   "metadata": {},
   "source": [
    "### Now , Comparing layoffs between the United States and India."
   ]
  },
  {
   "cell_type": "code",
   "execution_count": 179,
   "id": "d09fe6b6",
   "metadata": {},
   "outputs": [
    {
     "data": {
      "text/html": [
       "<div>\n",
       "<style scoped>\n",
       "    .dataframe tbody tr th:only-of-type {\n",
       "        vertical-align: middle;\n",
       "    }\n",
       "\n",
       "    .dataframe tbody tr th {\n",
       "        vertical-align: top;\n",
       "    }\n",
       "\n",
       "    .dataframe thead th {\n",
       "        text-align: right;\n",
       "    }\n",
       "</style>\n",
       "<table border=\"1\" class=\"dataframe\">\n",
       "  <thead>\n",
       "    <tr style=\"text-align: right;\">\n",
       "      <th></th>\n",
       "      <th>company</th>\n",
       "      <th>location</th>\n",
       "      <th>total_laid_off</th>\n",
       "      <th>date</th>\n",
       "      <th>percentage_laid_off</th>\n",
       "      <th>industry</th>\n",
       "      <th>stage</th>\n",
       "      <th>funds_raised</th>\n",
       "      <th>country</th>\n",
       "      <th>date_added</th>\n",
       "    </tr>\n",
       "  </thead>\n",
       "  <tbody>\n",
       "    <tr>\n",
       "      <th>0</th>\n",
       "      <td>Kaltura</td>\n",
       "      <td>New York City</td>\n",
       "      <td>70.0</td>\n",
       "      <td>2025-08-07</td>\n",
       "      <td>10</td>\n",
       "      <td>Media</td>\n",
       "      <td>Post-IPO</td>\n",
       "      <td>$166</td>\n",
       "      <td>United States</td>\n",
       "      <td>2025-08-10</td>\n",
       "    </tr>\n",
       "  </tbody>\n",
       "</table>\n",
       "</div>"
      ],
      "text/plain": [
       "   company       location  total_laid_off       date  percentage_laid_off  \\\n",
       "0  Kaltura  New York City            70.0 2025-08-07                   10   \n",
       "\n",
       "  industry     stage funds_raised        country date_added  \n",
       "0    Media  Post-IPO         $166  United States 2025-08-10  "
      ]
     },
     "execution_count": 179,
     "metadata": {},
     "output_type": "execute_result"
    }
   ],
   "source": [
    "data.head(1)"
   ]
  },
  {
   "cell_type": "code",
   "execution_count": 180,
   "id": "7aaa3859",
   "metadata": {},
   "outputs": [
    {
     "data": {
      "text/html": [
       "<div>\n",
       "<style scoped>\n",
       "    .dataframe tbody tr th:only-of-type {\n",
       "        vertical-align: middle;\n",
       "    }\n",
       "\n",
       "    .dataframe tbody tr th {\n",
       "        vertical-align: top;\n",
       "    }\n",
       "\n",
       "    .dataframe thead th {\n",
       "        text-align: right;\n",
       "    }\n",
       "</style>\n",
       "<table border=\"1\" class=\"dataframe\">\n",
       "  <thead>\n",
       "    <tr style=\"text-align: right;\">\n",
       "      <th></th>\n",
       "      <th>company</th>\n",
       "      <th>location</th>\n",
       "      <th>total_laid_off</th>\n",
       "      <th>date</th>\n",
       "      <th>percentage_laid_off</th>\n",
       "      <th>industry</th>\n",
       "      <th>stage</th>\n",
       "      <th>funds_raised</th>\n",
       "      <th>country</th>\n",
       "      <th>date_added</th>\n",
       "    </tr>\n",
       "  </thead>\n",
       "  <tbody>\n",
       "    <tr>\n",
       "      <th>5</th>\n",
       "      <td>Clear</td>\n",
       "      <td>Bengaluru</td>\n",
       "      <td>145.0</td>\n",
       "      <td>2025-08-01</td>\n",
       "      <td>16</td>\n",
       "      <td>Finance</td>\n",
       "      <td>Series C</td>\n",
       "      <td>$140</td>\n",
       "      <td>India</td>\n",
       "      <td>2025-08-05</td>\n",
       "    </tr>\n",
       "    <tr>\n",
       "      <th>53</th>\n",
       "      <td>Otipy</td>\n",
       "      <td>New Delhi</td>\n",
       "      <td>300.0</td>\n",
       "      <td>2025-05-23</td>\n",
       "      <td>100</td>\n",
       "      <td>Food</td>\n",
       "      <td>Series B</td>\n",
       "      <td>$44</td>\n",
       "      <td>India</td>\n",
       "      <td>2025-05-26</td>\n",
       "    </tr>\n",
       "    <tr>\n",
       "      <th>68</th>\n",
       "      <td>GenWise</td>\n",
       "      <td>New Delhi</td>\n",
       "      <td>15.0</td>\n",
       "      <td>2025-05-05</td>\n",
       "      <td>20</td>\n",
       "      <td>Other</td>\n",
       "      <td>Seed</td>\n",
       "      <td>$3</td>\n",
       "      <td>India</td>\n",
       "      <td>2025-05-05</td>\n",
       "    </tr>\n",
       "    <tr>\n",
       "      <th>182</th>\n",
       "      <td>ShareChat</td>\n",
       "      <td>Bengaluru</td>\n",
       "      <td>27.0</td>\n",
       "      <td>2025-01-15</td>\n",
       "      <td>5</td>\n",
       "      <td>Marketing</td>\n",
       "      <td>Series D</td>\n",
       "      <td>$222</td>\n",
       "      <td>India</td>\n",
       "      <td>2025-01-16</td>\n",
       "    </tr>\n",
       "    <tr>\n",
       "      <th>299</th>\n",
       "      <td>BeepKart</td>\n",
       "      <td>Bengaluru</td>\n",
       "      <td>130.0</td>\n",
       "      <td>2024-10-08</td>\n",
       "      <td>40</td>\n",
       "      <td>Retail</td>\n",
       "      <td>Series A</td>\n",
       "      <td>$19</td>\n",
       "      <td>India</td>\n",
       "      <td>2024-10-09</td>\n",
       "    </tr>\n",
       "    <tr>\n",
       "      <th>...</th>\n",
       "      <td>...</td>\n",
       "      <td>...</td>\n",
       "      <td>...</td>\n",
       "      <td>...</td>\n",
       "      <td>...</td>\n",
       "      <td>...</td>\n",
       "      <td>...</td>\n",
       "      <td>...</td>\n",
       "      <td>...</td>\n",
       "      <td>...</td>\n",
       "    </tr>\n",
       "    <tr>\n",
       "      <th>3884</th>\n",
       "      <td>Meesho</td>\n",
       "      <td>Bengaluru</td>\n",
       "      <td>200.0</td>\n",
       "      <td>2020-04-08</td>\n",
       "      <td>28</td>\n",
       "      <td>Retail</td>\n",
       "      <td>Series D</td>\n",
       "      <td>$215</td>\n",
       "      <td>India</td>\n",
       "      <td>2020-04-10</td>\n",
       "    </tr>\n",
       "    <tr>\n",
       "      <th>3978</th>\n",
       "      <td>Instamojo</td>\n",
       "      <td>Bengaluru</td>\n",
       "      <td>6.0</td>\n",
       "      <td>2020-04-02</td>\n",
       "      <td>6</td>\n",
       "      <td>Finance</td>\n",
       "      <td>Unknown</td>\n",
       "      <td>$8</td>\n",
       "      <td>India</td>\n",
       "      <td>2020-04-12</td>\n",
       "    </tr>\n",
       "    <tr>\n",
       "      <th>3992</th>\n",
       "      <td>Acko</td>\n",
       "      <td>Mumbai</td>\n",
       "      <td>45.0</td>\n",
       "      <td>2020-04-01</td>\n",
       "      <td>9</td>\n",
       "      <td>Finance</td>\n",
       "      <td>Unknown</td>\n",
       "      <td>$143</td>\n",
       "      <td>India</td>\n",
       "      <td>2020-04-08</td>\n",
       "    </tr>\n",
       "    <tr>\n",
       "      <th>4024</th>\n",
       "      <td>FabHotels</td>\n",
       "      <td>New Delhi</td>\n",
       "      <td>80.0</td>\n",
       "      <td>2020-03-30</td>\n",
       "      <td>20</td>\n",
       "      <td>Travel</td>\n",
       "      <td>Series B</td>\n",
       "      <td>$48</td>\n",
       "      <td>India</td>\n",
       "      <td>2020-04-10</td>\n",
       "    </tr>\n",
       "    <tr>\n",
       "      <th>4038</th>\n",
       "      <td>TravelTriangle</td>\n",
       "      <td>Gurugram</td>\n",
       "      <td>250.0</td>\n",
       "      <td>2020-03-28</td>\n",
       "      <td>50</td>\n",
       "      <td>Travel</td>\n",
       "      <td>Series D</td>\n",
       "      <td>$47</td>\n",
       "      <td>India</td>\n",
       "      <td>2020-04-01</td>\n",
       "    </tr>\n",
       "  </tbody>\n",
       "</table>\n",
       "<p>118 rows × 10 columns</p>\n",
       "</div>"
      ],
      "text/plain": [
       "             company   location  total_laid_off       date  \\\n",
       "5              Clear  Bengaluru           145.0 2025-08-01   \n",
       "53             Otipy  New Delhi           300.0 2025-05-23   \n",
       "68           GenWise  New Delhi            15.0 2025-05-05   \n",
       "182        ShareChat  Bengaluru            27.0 2025-01-15   \n",
       "299         BeepKart  Bengaluru           130.0 2024-10-08   \n",
       "...              ...        ...             ...        ...   \n",
       "3884          Meesho  Bengaluru           200.0 2020-04-08   \n",
       "3978       Instamojo  Bengaluru             6.0 2020-04-02   \n",
       "3992            Acko     Mumbai            45.0 2020-04-01   \n",
       "4024       FabHotels  New Delhi            80.0 2020-03-30   \n",
       "4038  TravelTriangle   Gurugram           250.0 2020-03-28   \n",
       "\n",
       "      percentage_laid_off   industry     stage funds_raised country date_added  \n",
       "5                      16    Finance  Series C         $140   India 2025-08-05  \n",
       "53                    100       Food  Series B          $44   India 2025-05-26  \n",
       "68                     20      Other      Seed           $3   India 2025-05-05  \n",
       "182                     5  Marketing  Series D         $222   India 2025-01-16  \n",
       "299                    40     Retail  Series A          $19   India 2024-10-09  \n",
       "...                   ...        ...       ...          ...     ...        ...  \n",
       "3884                   28     Retail  Series D         $215   India 2020-04-10  \n",
       "3978                    6    Finance   Unknown           $8   India 2020-04-12  \n",
       "3992                    9    Finance   Unknown         $143   India 2020-04-08  \n",
       "4024                   20     Travel  Series B          $48   India 2020-04-10  \n",
       "4038                   50     Travel  Series D          $47   India 2020-04-01  \n",
       "\n",
       "[118 rows x 10 columns]"
      ]
     },
     "execution_count": 180,
     "metadata": {},
     "output_type": "execute_result"
    }
   ],
   "source": [
    "data[data['country']=='India']"
   ]
  },
  {
   "cell_type": "code",
   "execution_count": 181,
   "id": "f3ec6a04",
   "metadata": {},
   "outputs": [
    {
     "data": {
      "text/plain": [
       "company                1085\n",
       "location               1085\n",
       "total_laid_off         1085\n",
       "date                   1085\n",
       "percentage_laid_off    1085\n",
       "industry               1085\n",
       "stage                  1085\n",
       "funds_raised           1085\n",
       "country                1085\n",
       "date_added             1085\n",
       "dtype: int64"
      ]
     },
     "execution_count": 181,
     "metadata": {},
     "output_type": "execute_result"
    }
   ],
   "source": [
    "data[data['country']=='United States'].count()"
   ]
  },
  {
   "cell_type": "code",
   "execution_count": 182,
   "id": "c37d248c",
   "metadata": {},
   "outputs": [
    {
     "data": {
      "text/plain": [
       "array([2025, 2024, 2023, 2022, 2021, 2020], dtype=int32)"
      ]
     },
     "execution_count": 182,
     "metadata": {},
     "output_type": "execute_result"
    }
   ],
   "source": [
    "data['date'].dt.year.unique()"
   ]
  },
  {
   "cell_type": "code",
   "execution_count": null,
   "id": "c824e097",
   "metadata": {},
   "outputs": [],
   "source": []
  }
 ],
 "metadata": {
  "kernelspec": {
   "display_name": "Python 3",
   "language": "python",
   "name": "python3"
  },
  "language_info": {
   "codemirror_mode": {
    "name": "ipython",
    "version": 3
   },
   "file_extension": ".py",
   "mimetype": "text/x-python",
   "name": "python",
   "nbconvert_exporter": "python",
   "pygments_lexer": "ipython3",
   "version": "3.13.2"
  }
 },
 "nbformat": 4,
 "nbformat_minor": 5
}
